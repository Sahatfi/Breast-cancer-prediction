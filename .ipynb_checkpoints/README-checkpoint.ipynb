{
 "cells": [
  {
   "cell_type": "markdown",
   "id": "6e3887a0-8ec7-436f-a2bf-4b795d1ff25a",
   "metadata": {},
   "source": [
    "# Breast Cancer Malignancy Prediction using Logistic Regression\n",
    "## 1. Introduction\n",
    "This project focuses on developing and evaluating a machine learning model to predict whether a breast mass is benign or malignant, based on characteristics derived from digitized images. Accurate and early diagnosis of breast cancer is crucial for patient treatment and outcomes, and data-driven methods can play a vital role in supporting clinical decisions.\n",
    "\n",
    "## 2. Data Source\n",
    "This project utilizes the Wisconsin Breast Cancer Diagnostic (WDBC) dataset, which contains numerical features computed from digitized images of a Fine Needle Aspirate (FNA) of a breast mass. The dataset includes 30 real-valued attributes for each cell nucleus, such as radius, texture, perimeter, area, smoothness, compactness, concavity, concave points, symmetry, and fractal dimension, along with a diagnosis (M = malignant, B = benign).\n",
    "\n",
    "## 3. Project Goals\n",
    "The primary objectives of this project were to:\n",
    "\n",
    "Perform data preparation and feature engineering to transform raw data into suitable predictors for modeling.\n",
    "Build a logistic regression model for binary classification of breast masses.\n",
    "Thoroughly evaluate the model's performance on an unseen test dataset.\n",
    "Understand and interpret the model's predictions, including identifying key predictors and challenges such as quasi-perfect separation.\n",
    "Reflect on the model's clinical implications based on various performance metrics.\n",
    "\n",
    "## 4. Methodology\n",
    "The project followed a standard machine learning workflow, with a strong emphasis on exploratory data analysis and visualization:\n",
    "\n",
    "#### Data Preparation: \n",
    "The dataset was loaded and cleaned, handling any missing values or inconsistencies.\n",
    "#### Exploratory Data Analysis (EDA):\n",
    "Extensive EDA was performed to understand the distribution of features, identify potential outliers, and explore relationships between variables. Visualizations, including histograms, box plots, scatter plots, and correlation matrices, were used to gain insights into the data's characteristics and identify potential predictors of malignancy.\n",
    "#### Feature Engineering: \n",
    "Several continuous diagnostic attributes were transformed into binary variables based on clinically relevant thresholds and observed distributions. This transformation proved to be highly effective in distinguishing between the two diagnostic outcomes and simplifying the model.\n",
    "#### Data Splitting: \n",
    "The dataset was split into training and test sets to ensure an objective evaluation of the model's generalization capabilities on unseen data.\n",
    "#### Model Building:\n",
    "A logistic regression model was trained on the training data, leveraging its interpretability and efficiency for binary classification.\n",
    "#### Model Evaluation: \n",
    "The model's performance was assessed using a variety of metrics on the test set.\n",
    "\n",
    "## 5. Model Performance (on test data)\n",
    "The model was rigorously evaluated on an independent test set to assess its ability to generalize to unseen data.\n",
    "\n",
    "Confusion Matrix (at default threshold of 0.5):\n",
    "[[100   7]\n",
    " [ 13  51]]\n",
    "ROC AUC Score: 0.946 (Excellent)\n",
    "Precision: 0.879 (Very Good)\n",
    "Sensitivity (Recall): 0.797 (Good)\n",
    "Interpretation of Performance and Clinical Implications:\n",
    "\n",
    "The model demonstrates excellent overall discriminative power with a high ROC AUC of 0.95. This confirms its ability to effectively distinguish between malignant and benign diagnoses across various thresholds.\n",
    "\n",
    "However, the model's current sensitivity of 79.7% for detecting malignant cases is an area requiring further consideration. This means the model unfortunately misses approximately 20% of actual malignant cancer cases (false negatives). Given the severe clinical implications of a missed diagnosis, this is a critical metric to improve.\n",
    "\n",
    "For a future production model, it would be necessary to investigate methods to increase sensitivity, even if this were to involve some reduction in precision (i.e., an increase in false positives). This could be achieved by adjusting the classification threshold or by exploring other model enhancements. However, for the scope of this portfolio project, such optimization is beyond its current focus.\n",
    "\n",
    "## 6. Tools and Technologies\n",
    "Language: Python/ basic SQL\n",
    "Libraries: pandas, numpy, scikit-learn, matplotlib, seaborn, statsmodels\n",
    "Development Environment: Jupyter Notebook\n",
    "\n",
    "## 7. How to Run the Project\n",
    "Clone this GitHub repository: git clone [Link to your repo]\n",
    "Navigate to the project directory: cd [your_project_folder_name]\n",
    "Install the required packages (recommended in a virtual environment): pip install -r requirements.txt (If you create a requirements.txt file) Alternatively, install manually: pip install pandas numpy scikit-learn matplotlib seaborn statsmodels\n",
    "Open Jupyter Notebook: jupyter notebook\n",
    "Navigate to and open the [Your_Notebook_Name].ipynb file.\n",
    "\n",
    "## 8. Future Work\n",
    "Adjusting the classification threshold to optimize sensitivity based on clinical needs.\n",
    "Investigate potential quasi-separation.\n"
   ]
  },
  {
   "cell_type": "code",
   "execution_count": null,
   "id": "9bc84c4b-3c25-4488-9a9c-57521fed4262",
   "metadata": {},
   "outputs": [],
   "source": []
  },
  {
   "cell_type": "code",
   "execution_count": 2,
   "id": "4ea4761f-0f67-4913-afbb-796e41e98827",
   "metadata": {},
   "outputs": [
    {
     "name": "stdout",
     "output_type": "stream",
     "text": [
      "zsh:1: bad pattern: [Alt\n"
     ]
    }
   ],
   "source": [
    "![Alt text for the image](Portfolio/Dataanalyse_for_Brystkreftdiagnose/concave_points.png)"
   ]
  },
  {
   "cell_type": "code",
   "execution_count": null,
   "id": "4053b91c-b3cb-46da-83bd-9953262b3e70",
   "metadata": {},
   "outputs": [],
   "source": []
  }
 ],
 "metadata": {
  "kernelspec": {
   "display_name": "Python (base)",
   "language": "python",
   "name": "base"
  },
  "language_info": {
   "codemirror_mode": {
    "name": "ipython",
    "version": 3
   },
   "file_extension": ".py",
   "mimetype": "text/x-python",
   "name": "python",
   "nbconvert_exporter": "python",
   "pygments_lexer": "ipython3",
   "version": "3.12.7"
  }
 },
 "nbformat": 4,
 "nbformat_minor": 5
}
