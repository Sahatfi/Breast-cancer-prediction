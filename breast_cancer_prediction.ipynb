{
 "cells": [
  {
   "cell_type": "markdown",
   "id": "6ce40a4e-d98f-446c-b3ed-1128c8bf405d",
   "metadata": {},
   "source": [
    "# 1. Introduksjon og Klinisk Kontekst\n",
    "Brystkreft er den vanligste kreftformen blant kvinner i Norge, og den nest vanligste kreftformen i den norske befolkningen totalt sett, etter prostatakreft. I 2022 fikk omtrent 4200 kvinner i Norge diagnosen brystkreft [1].\n",
    "I dette prosjektet skiller vi mellom to typer brystsvulster:\n",
    "Godartet (Benign): Dette er ikke-kreftsyke svulster som vanligvis ikke sprer seg utover området der de oppsto.\n",
    "Ondartet (Malign): Dette er kreftsvulster som kan invadere nærliggende vev og spre seg (metastaser) til forskjellige deler av kroppen, noe som potensielt kan ha alvorlige kliniske implikasjoner [1].\n",
    "Dette prosjektet har som mål å utnytte dataanalyse for å undersøke korrelasjonen mellom ulike svulstegenskaper (som størrelse, overflateegenskaper og tekstur) og krefttypen (ondartet vs. godartet). Det endelige målet er å skape en prediksjonsmodell som kan vurdere sannsynligheten for at en brystsvulst er ondartet eller godartet basert på disse egenskapene.\n",
    "\n",
    "# 2. Definisjon av Egenskaper og Hypoteser\n",
    "Datasettet som brukes i dette prosjektet inneholder egenskaper utledet fra digitaliserte bilder av en finnålsaspirasjon (FNA) av brystsvulster. Disse egenskapene er gruppert i kategorier relatert til størrelse, overflateegenskaper og tekstur, som er avgjørende for kreftdiagnostikk.\n",
    "\n",
    "2.1 Størrelsesegenskaper\n",
    "RADIUS: Ble beregnet ved å ta gjennomsnittet av lengdene til radielle linjesegmenter fra sentrum av cellekjernen til punktene langs cellekjernens yttergrense.\n",
    "PERIMETER: Ble målt som avstanden rundt cellekjernens grense.\n",
    "AREAL: Ble målt ved å telle antall piksler innenfor cellekjernens grense og legge til halvparten av pikslene på omkretsen.\n",
    "\n",
    "2.2 Overflateegenskaper\n",
    "Disse egenskapene inkluderer variabler som glatthet, konkavitet og konkave punkter:\n",
    "\n",
    "Glatthet: Ble kvantifisert ved å måle forskjellen mellom lengden på hver radius og gjennomsnittslengden av tilstøtende radier. Denne metrikken reflekterer den lokale variasjonen i radiuslengder, noe som indikerer jevnheten i cellekjernens omriss.\n",
    "Konkavitet: Ble bestemt ved å måle størrelsen på eventuelle innbuktninger i cellekjernens ytterkant.\n",
    "Konkave Punkter: Telte antall punkter på cellekjernens ytterkant som ligger i en innbuktning.\n",
    "Hypotese: Det er en sammenheng mellom cellekjernens overflateegenskaper og krefttypen (ondartet vs. godartet).\n",
    "\n",
    "2.3 Teksturegenskaper\n",
    "Disse egenskapene inkluderer symmetri, fraktal dimensjon, tekstur og kompakthet:\n",
    "\n",
    "Symmetri: Ble målt ved å finne den relative forskjellen i lengde mellom linjesegmenter som var vinkelrett på og på hver side av hovedaksen, noe som indikerer regelmessigheten i cellekjernens form.\n",
    "Fraktal Dimensjon: Ble tilnærmet ved hjelp av \"kystlinjeapproksimasjonen,\" som kvantifiserte uregelmessigheten eller kompleksiteten i cellekjernens yttergrense.\n",
    "Tekstur: Ble målt ved å finne variansen i gråtoneintensitetene i de enkelte pikslene i cellekjernen, noe som reflekterer jevnheten eller ruheten i teksturen.\n",
    "Kompakthet: Kombinerte omkrets og areal, ved hjelp av formelen: omkrets^2 / areal. Dette ga et mål på hvor kompakt cellekjernens materiale var arrangert.\n",
    "Hypotese: Det er en sammenheng mellom svulstens teksturegenskaper og krefttypen (ondartet vs. godartet).\n",
    "\n",
    "\n",
    "[1] Folkehelseinstitutet (https://www.fhi.no/he/folkehelserapporten/ikke-smittsomme/kreft/?term=#om-kreft)"
   ]
  },
  {
   "cell_type": "markdown",
   "id": "7f844e40-6854-460c-bca2-d676da8bb0e4",
   "metadata": {},
   "source": [
    "# 3. Import av Data og Innledende Utforskning"
   ]
  },
  {
   "cell_type": "markdown",
   "id": "c5312fc3-3920-4101-abb9-f67002a4effc",
   "metadata": {},
   "source": [
    "### 3.1 Bibliotekoppsett\n"
   ]
  },
  {
   "cell_type": "markdown",
   "id": "3b78e91b-b8d4-48ff-9e36-e7fae60cf138",
   "metadata": {},
   "source": [
    "Jeg importerer de nødvendige Python-bibliotekene for dataanalyse visualisering og maskinlæring:"
   ]
  },
  {
   "cell_type": "code",
   "execution_count": null,
   "id": "50c051ee-9e83-4ecf-8d5f-7a020fd6288b",
   "metadata": {},
   "outputs": [],
   "source": [
    "import pandas as pd\n",
    "import numpy as np\n",
    "import matplotlib.pyplot as plt\n",
    "import seaborn as sns\n",
    "\n",
    "# Datahåndtering og -spørring(grunnleggene SQL-spørringer)\n",
    "import duckdb \n",
    "\n",
    "\n",
    "# Maskinlæring - Modeller og Verktøy\n",
    "from sklearn.model_selection import train_test_split\n",
    "from sklearn.linear_model import LogisticRegression\n",
    "\n",
    "# Maskinlæring - Metrikker\n",
    "from sklearn.metrics import confusion_matrix, precision_score, recall_score, roc_auc_score, roc_curve, auc\n",
    "\n",
    "# Statistisk Analyse\n",
    "from statsmodels.stats.outliers_influence import variance_inflation_factor\n",
    "import statsmodels.api as sm"
   ]
  },
  {
   "cell_type": "markdown",
   "id": "478ab4c6-7283-4552-95f7-0d3610d73633",
   "metadata": {},
   "source": [
    "### 3.2  Datainnlasting"
   ]
  },
  {
   "cell_type": "code",
   "execution_count": null,
   "id": "3ee3fe35-0c94-41ee-8fa7-d26f3526ecdf",
   "metadata": {},
   "outputs": [],
   "source": [
    "df_kreft = pd.read_csv('data/kreft_dataset.csv')"
   ]
  },
  {
   "cell_type": "markdown",
   "id": "27a2facb-6fe5-4f7c-b014-dc4a27d78e96",
   "metadata": {},
   "source": [
    "Dataset og nødvendige bibliotekene er nå klare. Jeg fortsetter med datautforskning og rensing"
   ]
  },
  {
   "cell_type": "markdown",
   "id": "58f4b19d-faf3-4c04-9886-c1e132553f37",
   "metadata": {},
   "source": [
    "Jeg undersøker datasett for å forstå dets struktur og innhold. Dette inkluderer antall råder koloner samt utvalg av de første rådene"
   ]
  },
  {
   "cell_type": "code",
   "execution_count": null,
   "id": "d3545949-a7ee-4794-a159-8b505467769e",
   "metadata": {},
   "outputs": [],
   "source": [
    "print(df_kreft.shape)"
   ]
  },
  {
   "cell_type": "markdown",
   "id": "bec7cf34-122c-4c8c-80b5-a23d952aeadf",
   "metadata": {},
   "source": [
    "*Datasett har 569, råd og 33 variabler*"
   ]
  },
  {
   "cell_type": "markdown",
   "id": "29912bba-b5da-46d1-9985-6a8dfa965c32",
   "metadata": {},
   "source": [
    "### 3.3 Innledende datainspeksjon\n"
   ]
  },
  {
   "cell_type": "code",
   "execution_count": null,
   "id": "d2eb85e4-9766-4727-9cc0-fbe634d8e3d2",
   "metadata": {},
   "outputs": [],
   "source": [
    "print(df_kreft.head(10))"
   ]
  },
  {
   "cell_type": "markdown",
   "id": "578ac027-b28c-4d30-ae22-78525b4a20c3",
   "metadata": {},
   "source": [
    "En rask gjennomgang av de første 10 radene viser at de fleste variablene inneholder numeriske verdier, som forventet. 'Diagnosis'-kolonnen inneholder kategoriske verdier ('M' og 'B'), som representerer henholdsvis ondartet og godartet kreft. Jeg observerer at de første 10 radene kun viser 'M', noe som indikerer at det kan være nødvendig å undersøke fordelingen av disse kategoriene nærmere."
   ]
  },
  {
   "cell_type": "markdown",
   "id": "3c850c8d-3eb8-4751-97e2-cfa6c3fdf0c5",
   "metadata": {},
   "source": [
    "#### 3.3.1 Utforsking av 'Diagnosis'-kolonnen\n",
    "\n",
    "For å undersøke fordelingen av diagnosene, bruker jeg unique() og value_counts()"
   ]
  },
  {
   "cell_type": "code",
   "execution_count": null,
   "id": "50ecc4ea-ca9f-42d3-b7b3-2a49268e15a7",
   "metadata": {},
   "outputs": [],
   "source": [
    "print(df_kreft[\"diagnosis\"].unique())\n",
    "print(df_kreft[\"diagnosis\"].value_counts())"
   ]
  },
  {
   "cell_type": "markdown",
   "id": "b033272f-f1ed-4895-b708-d7a1968618cd",
   "metadata": {},
   "source": [
    "Dette bekrefter at 'Diagnosis'-kolonnen inneholder to kategorier: 'M' som \"Malignant\" (norsk: Ondartet) og \"B\" \" Benign\" (norsk: Godartet). Det er 357 tilfeller av Godartet (B) og 212 tilfeller av Ondartet (M). Totalt antall tilfeller (569) stemmer overens med antall rader i datasettet.\n",
    "\n"
   ]
  },
  {
   "cell_type": "markdown",
   "id": "b24d795a-58d7-4ef2-9be2-d69d5897e730",
   "metadata": {},
   "source": [
    "#### 3.3.2 Sjekk av variabeltyper\n",
    "\n",
    "For å få en oversikt over datatypene for hver kolonne, bruker jeg info():"
   ]
  },
  {
   "cell_type": "code",
   "execution_count": null,
   "id": "73210915-2abd-4961-ace1-f9b061289505",
   "metadata": {
    "scrolled": true
   },
   "outputs": [],
   "source": [
    "print(df_kreft.info())\n"
   ]
  },
  {
   "cell_type": "markdown",
   "id": "786712fc-3553-46ff-90e3-8166d593ee08",
   "metadata": {},
   "source": [
    "\n",
    "\n",
    "Outputen fra df.info() viser at de fleste variablene, bortsett fra \"diagnosis\" og \"id\", er av typen \"float64\", som forventet. \"id\"-kolonnen er ikke relevant for den planlagte analysen og vil derfor bli fjernet. \"diagnosis'-kolonnen\" er av typen 'object' og inneholder kategoriske verdier ('B' og 'M'). For å kunne bruke denne kolonnen i prediktive modeller, vil den senere bli omkodet til numeriske verdier (0 og 1, der 0 representerer \"B\" og 1 representerer \"M\"). Denne første utforskningen av dataene fokuserer på å forstå datastrukturen uten å gjøre endringer. Variablene av interesse for videre analyse er:\n",
    "\n",
    "* Data jeg er interessert i analyse er: 1   diagnosis                569 non-null    object \n",
    " 2   radius_mean              569 non-null    float64\n",
    " 3   texture_mean             569 non-null    float64\n",
    " 4   perimeter_mean           569 non-null    float64\n",
    " 5   area_mean                569 non-null    float64\n",
    " 6   smoothness_mean          569 non-null    float64\n",
    " 7   compactness_mean         569 non-null    float64\n",
    " 8   concavity_mean           569 non-null    float64\n",
    " 9   concave points_mean      569 non-null    float64\n",
    " 10  symmetry_mean            569 non-null    float64\n",
    " 11  fractal_dimension_mean   569 non-null    float64"
   ]
  },
  {
   "cell_type": "markdown",
   "id": "e39546b3-0169-4b5f-ac9b-7734bcca931d",
   "metadata": {},
   "source": [
    "#### 3.3.3 Deskriptiv statistikk\n",
    "\n",
    "Jeg bruker df.describe() for å generere deskriptiv statistikk for de numeriske variablene i datasettet. Dette gir en oversikt over sentrale tendenser, spredning og formen på fordelingene. Spesielt ser jeg på gjennomsnitt, median, persentiler og ekstreme verdier."
   ]
  },
  {
   "cell_type": "code",
   "execution_count": null,
   "id": "ef2c16c4-dda2-44fb-b15c-0144ccde1842",
   "metadata": {},
   "outputs": [],
   "source": [
    "print(df_kreft.describe())\n"
   ]
  },
  {
   "cell_type": "markdown",
   "id": "9372e7b3-df1a-4c06-8cf8-6d527aa26629",
   "metadata": {},
   "source": [
    "\n",
    "Ved å bruke \"print(df_kreft.describe())\" oppsumerte jeg dataene for å se på gjennomsnitt, median persentiler og ekstreme verdier. Noe av kategorier er skjeve mot høyere sannsynligvis på grunn av ekstreme verdier (for eksempel veldig støre kreftsvulstre av arealstørrelse 2501 mm som mer enn fire ganger større enn median(551μm2) og nesten tre ganger større enn 75-percentilen (782μm2)). Disse dataene fører til at gjennomsnittet er høyre enn medianen som ikke er mer enn en standardavvik bort fra gjennomsnitt. Jeg skal visualisere data senere."
   ]
  },
  {
   "cell_type": "markdown",
   "id": "9f8d7039-b27f-4e50-a450-6b13bcfd6b95",
   "metadata": {},
   "source": [
    "# 4. Data manipulering og filtering datasett"
   ]
  },
  {
   "cell_type": "markdown",
   "id": "eca4818d-e947-4811-a55e-d9fe7b301bbf",
   "metadata": {},
   "source": [
    "#### 4.1 Filtering v Datasett\n",
    "   \n",
    "  "
   ]
  },
  {
   "cell_type": "markdown",
   "id": "69f29529-9d63-4d53-9759-a575f88b72b8",
   "metadata": {},
   "source": [
    "   For å fokusere analysen på de relevante variablene velger jeg et subsett av kolonene. Dette bidrar til å strukturere arbedet, gir en bedre oversikt over dataene, og er spesielt viktig for senere visualiseringer, som for eksempel korrelasjonsheatmapp."
   ]
  },
  {
   "cell_type": "code",
   "execution_count": null,
   "id": "5bcc3acf-2942-443a-9db7-532a2b0bb70e",
   "metadata": {},
   "outputs": [],
   "source": [
    "df_kreft_ren = df_kreft.iloc[:, 1:12]"
   ]
  },
  {
   "cell_type": "markdown",
   "id": "fbff0ad5-97e6-4f97-a20e-75e009edf145",
   "metadata": {},
   "source": [
    "Jeg kontrollerer resultatet av filtringen ved å skrive ut dimensjonene til det nye datasett og ved å bruke info() for å se datatypene"
   ]
  },
  {
   "cell_type": "code",
   "execution_count": null,
   "id": "5722f5a6-61db-4e36-af57-22ab81e8c731",
   "metadata": {},
   "outputs": [],
   "source": [
    "\n",
    "print(df_kreft_ren.shape)\n",
    "print(df_kreft_ren.info())"
   ]
  },
  {
   "cell_type": "markdown",
   "id": "f06321e2-b1f4-499b-88be-97d88282ab4e",
   "metadata": {},
   "source": [
    "Resultatet bekrefter at det filtrete datasett har 569 rader og 11 koloner(indeks fra 0 til 10) som forventet. Dette er korrekt opprettet og jeg kan fortsette med behandling av manglende verdier\n"
   ]
  },
  {
   "cell_type": "markdown",
   "id": "3032fc8a-e5df-4b51-bb2d-17a17e170231",
   "metadata": {},
   "source": [
    "#### 4.2 Manglede Verdier\n",
    "    Selv om den forrige undersøkelsen ikke avdekket noen manglende verdier, utfører jeg likevel en eksplisitt sjekk for å følge en standard prosedyre for datarensing."
   ]
  },
  {
   "cell_type": "code",
   "execution_count": null,
   "id": "0b86df9e-c7c3-48cb-916f-0c7ebac79383",
   "metadata": {},
   "outputs": [],
   "source": [
    "print(df_kreft_ren.isna().any())\n",
    "print(df_kreft_ren.isna().sum())"
   ]
  },
  {
   "cell_type": "markdown",
   "id": "604c6175-2860-464c-abf4-f716eb281202",
   "metadata": {},
   "source": [
    "Jeg bruker \"print(df_kreft_ren.isna().any()) for  å sjekke manglende verdier. False indikerer at ingen koloner har manglende verdier. Jeg bekrefter dette ved å bruke print(df_kreft_ren.isna().sum()). Totale antallet manglende verdier per kolone  er 0, som  indikerer at det er ikke noe av dem."
   ]
  },
  {
   "cell_type": "markdown",
   "id": "a976130e-661d-4d9c-b272-81b84776b334",
   "metadata": {},
   "source": [
    "#### 4.3 Omkoding av utfallsvariabel\n",
    "  I den forrige seksjonen ble det identifisert at \"diagnosis\"-variablen krevde omkoding. "
   ]
  },
  {
   "cell_type": "code",
   "execution_count": null,
   "id": "a6879ac1-9bd5-4bd6-b9c2-88ae6b4db4ad",
   "metadata": {},
   "outputs": [],
   "source": [
    "print(df_kreft_ren.info())"
   ]
  },
  {
   "cell_type": "markdown",
   "id": "a31bfa2a-fe39-4226-b599-26d597b3d93e",
   "metadata": {},
   "source": [
    "Som vist i outputen, er \"diagnosis\"-variabelen av typen \"object\", men må være numerisk for å kunne brukes som utfallsvariabel i prediksjonsmodeller."
   ]
  },
  {
   "cell_type": "code",
   "execution_count": null,
   "id": "64e005e4-ca2a-4f32-9e6a-3f131c284212",
   "metadata": {},
   "outputs": [],
   "source": [
    "df_kreft_ren[\"num_diagnosis\"] = df_kreft_ren[\"diagnosis\"]\n",
    "df_kreft_ren[\"num_diagnosis\"] = df_kreft_ren[\"num_diagnosis\"].map({\"M\":1, \"B\": 0}) "
   ]
  },
  {
   "cell_type": "markdown",
   "id": "851b3d4a-2df2-4754-bbe0-d826a85e9695",
   "metadata": {},
   "source": [
    "Her omkodes \"M\"(Ondartet/Malignant) til 1 og \"B (Godartet/Benign\") til 0.\n",
    "For å validere at omkoddingen er korrekt utført og for å sjekke datatypen til den nye variabelen, brukes følgene kode:\n"
   ]
  },
  {
   "cell_type": "code",
   "execution_count": null,
   "id": "b881f4e0-10a2-4465-9942-aad1f139e8bf",
   "metadata": {},
   "outputs": [],
   "source": [
    "print(pd.crosstab(df_kreft_ren[\"diagnosis\"], df_kreft_ren[\"num_diagnosis\"]))\n",
    "df_kreft_ren[\"num_diagnosis\"].dtype\n"
   ]
  },
  {
   "cell_type": "markdown",
   "id": "78b0b422-2a7d-4441-85b1-5757df7a9e72",
   "metadata": {},
   "source": [
    "Krysstabellen viser at \"357\" B-verier er korrekt omkodet til 0 og 212 \"M\"-verdier er korrekt omkodet til 1. Dette bekrefter at omkodingen ble utført uten feil. Datatypen til \"num_diagnosis\" er \"int64\" som er passende for en numerisk utfallsvariabel.\n",
    "Nå som omkodingen er fullført, kan den opprinelige \"diagnosis\"-kolonnen fjernes.\n"
   ]
  },
  {
   "cell_type": "code",
   "execution_count": null,
   "id": "5753d468-a8bb-4d2d-bb70-d5b47bcce392",
   "metadata": {},
   "outputs": [],
   "source": [
    "df_kreft_ren = df_kreft_ren.drop(\"diagnosis\", axis = 1)\n",
    "df_kreft_ren.info()\n"
   ]
  },
  {
   "cell_type": "markdown",
   "id": "0df68957-4a4b-4206-b74c-30f64fa246dc",
   "metadata": {},
   "source": [
    "Etter å ha fjernet \"diagnosis\"-kolonen, bekrefter jeg at datasettet er klart for utforskende dataanalyse(EDA). Datasettet er nå strukturert og konsistent."
   ]
  },
  {
   "cell_type": "markdown",
   "id": "adf64004-0a66-4448-b6ba-1c2eb44fa667",
   "metadata": {},
   "source": [
    "# 5. Utforskende dataanalyse"
   ]
  },
  {
   "cell_type": "markdown",
   "id": "55d37c58-cdf2-4eee-8c1f-f64e55f580d0",
   "metadata": {},
   "source": [
    "## 5.1 Fordeling av størrelsesvariabler "
   ]
  },
  {
   "cell_type": "markdown",
   "id": "d7dc9687-4814-4e48-a954-fa3379650e07",
   "metadata": {},
   "source": [
    "Cellekjernens størrelsesvariabler er radius, omkrets og areal. I denne delen skal vi se på fordelingen av disse variablene."
   ]
  },
  {
   "cell_type": "markdown",
   "id": "a9e209f0-2760-450d-b922-8a0a19bc6d1b",
   "metadata": {},
   "source": [
    "#### 5.1.1  Distribusjon av radius"
   ]
  },
  {
   "cell_type": "markdown",
   "id": "a3b339c9-4150-4000-b527-bd263c6fc422",
   "metadata": {},
   "source": [
    "*RADIUS* ble beregnet ved å ta gjennomsnittet av lengdene til radielle linjesegmenter fra sentrum av cellekjernen til punktene langs cellekjernens yttergrense.\n"
   ]
  },
  {
   "cell_type": "markdown",
   "id": "4c6eb315-a061-49c5-9c61-3622ec7186a1",
   "metadata": {},
   "source": [
    "Justering av stil til diagrammer til  alle størrelsevariabler"
   ]
  },
  {
   "cell_type": "code",
   "execution_count": null,
   "id": "4dba86db-66ce-43d0-9e26-10219e85feb8",
   "metadata": {},
   "outputs": [],
   "source": [
    "sns.set_style(\"whitegrid\")\n",
    "sns.set_palette(\"PRGn_r\")"
   ]
  },
  {
   "cell_type": "markdown",
   "id": "e99ca8d4-cf01-43b6-aea8-16a26ff9856e",
   "metadata": {},
   "source": [
    "Størrelse stolpediagram"
   ]
  },
  {
   "cell_type": "code",
   "execution_count": null,
   "id": "765989e2-021d-4d89-b028-af7fb0fe1fc7",
   "metadata": {},
   "outputs": [],
   "source": [
    "plt.hist(df_kreft_ren[\"radius_mean\"], bins = 30)\n",
    "plt.xlabel(\"Gjennomsnittlig radius fra kreftsvulstsenter til ytterkant (mm)\")\n",
    "plt.ylabel(\"Antall pasienter\")\n",
    "plt.title(\"Fordeling av kreftsvulsters radius(avstant fra sentrum til kant\")\n",
    "\n",
    "#Vis stolpediagram\n",
    "plt.show()\n"
   ]
  },
  {
   "cell_type": "markdown",
   "id": "c5445e26-8246-40bd-9e51-507e05a57c08",
   "metadata": {},
   "source": [
    "Fordelingen  viser at de fleste pasientene hadde gjennomsnittlig cellkjernestørrelse i kreftsvulsten mellom 10 og 15 mikrometer (µm). Noen Pasienter hadde en gjennomsnittlig cellkjernestørrelse på over 20 µm."
   ]
  },
  {
   "cell_type": "markdown",
   "id": "7d287dc9-1d10-4fc4-aed9-7d6c8b431023",
   "metadata": {},
   "source": [
    "#### 5.1.2  Distribusjon av   Omkrets"
   ]
  },
  {
   "cell_type": "markdown",
   "id": "b8bac128-cf54-4de7-8af6-4893f0ba3ab9",
   "metadata": {},
   "source": [
    "Omkrets ble målt som avstanden rundt cellekjernens kant."
   ]
  },
  {
   "cell_type": "code",
   "execution_count": null,
   "id": "2e7a4e05-e9fb-4fff-ba53-8b930a2377ad",
   "metadata": {},
   "outputs": [],
   "source": [
    "plt.hist(df_kreft_ren[\"perimeter_mean\"], bins = 30)\n",
    "plt.xlabel(\"Gjennomsnittig omkrets\")\n",
    "plt.ylabel(\"Antall pasienter\")\n",
    "plt.title(\"Fordeling av kreftsvulsters omkrets\")\n",
    "plt.xticks([40, 60, 80, 100, 120, 140, 160, 180, 200])\n",
    "\n",
    "#Vis stolpediagram\n",
    "plt.show()\n",
    "plt.clf()"
   ]
  },
  {
   "cell_type": "markdown",
   "id": "c0d97203-3747-4baf-9ed8-aeee39bcb9b4",
   "metadata": {},
   "source": [
    "Fordelingen av omkrets er svært lik fordelingen av radius. Som i det forrige diagrammet, observeres en venstreskjev fordeling, sannsynligvis forårsaket av pasienter med ekstremt store cellekjerner. Disse pasientene har mest sannsynlig ondartet kreft."
   ]
  },
  {
   "cell_type": "markdown",
   "id": "00bc62ca-e9ec-4fac-9f1a-6f6ce56ed53a",
   "metadata": {},
   "source": [
    "#### 5.1.3  Distribusjon av   Areal\n"
   ]
  },
  {
   "cell_type": "markdown",
   "id": "6741c2cc-5714-4c75-bef8-12add2b2a04c",
   "metadata": {},
   "source": [
    "Areal ble målt ved å telle antall piksler innenfor cellekjernens grense og legge til halvparten av pikslene på omkretsen."
   ]
  },
  {
   "cell_type": "code",
   "execution_count": null,
   "id": "1c6fa591-5159-46d8-8e97-b061d5de9ae7",
   "metadata": {},
   "outputs": [],
   "source": [
    "plt.hist(df_kreft_ren[\"area_mean\"], bins = 30)\n",
    "plt.xlabel(\"Gjennomsnittig areal av cellekjerne til cellene i kreftsvulst (µm²)\")\n",
    "plt.ylabel(\"Antall pasienter\")\n",
    "plt.title(\"Fordeling av cellekjerneareal i kreftsvulster\")"
   ]
  },
  {
   "cell_type": "markdown",
   "id": "cdbbc7e9-ee04-4cba-8040-b5f29002689c",
   "metadata": {},
   "source": [
    "Fordelingen av cellekjernareal er tilnærmet lik fordelingen av de to andre størrelsevariablene. Videre analyse vil undersøke styrken av assosiasjonen mellom disse variablene, samt assosiasjonen mellom disse og kreftsvulsttype. Før dette vil jeg imidlertid undersøke fordelingen av overflate- og teksturegenskaper."
   ]
  },
  {
   "cell_type": "markdown",
   "id": "9eb7535e-0387-45c8-b45b-d33de7177531",
   "metadata": {},
   "source": [
    "## 5.2 Fordeling av Overflateegenskaper"
   ]
  },
  {
   "cell_type": "markdown",
   "id": "170339dd-9d2f-43f8-afa3-0a85cde4c78d",
   "metadata": {},
   "source": [
    "I denne delen skal jeg visualisere overflattegenskapeene til cellkjerner i kreftsvulstene.Dette inkluderer glatthet, konkavitet, og  konkave punkter"
   ]
  },
  {
   "cell_type": "markdown",
   "id": "7c56ddd7-5618-4421-9abc-e9decb7e3e80",
   "metadata": {},
   "source": [
    " Stil og farge for diagramer over overflateegenskaper justeres"
   ]
  },
  {
   "cell_type": "code",
   "execution_count": null,
   "id": "398af453-5f1f-4345-80b5-147ae8258f39",
   "metadata": {},
   "outputs": [],
   "source": [
    "sns.set_style(\"darkgrid\")\n",
    "sns.set_palette(\"RdBu\")"
   ]
  },
  {
   "cell_type": "markdown",
   "id": "3197119c-34c9-449d-9743-29c8421a1885",
   "metadata": {},
   "source": [
    "#### 5.2.1 Fordeling av glatthet"
   ]
  },
  {
   "cell_type": "markdown",
   "id": "ed51d848-d77b-4afd-8279-5d6e505fd3f9",
   "metadata": {},
   "source": [
    "Glatthet ble kvantifisert ved å måle forskjellen mellom lengden på hver radius og gjennomsnittslengden til de omkringliggende radiene."
   ]
  },
  {
   "cell_type": "code",
   "execution_count": null,
   "id": "588c54d2-dd0c-4038-809b-611c8d27b10c",
   "metadata": {},
   "outputs": [],
   "source": [
    "plt.hist(df_kreft_ren[\"smoothness_mean\"], bins = 20)\n",
    "plt.xlabel(\"Glatthet (lokal variasjon i radiuslengder)\")\n",
    "plt.ylabel(\"Antall pasienter\")\n",
    "plt.title(\"Fordeling av glatthet\")\n",
    "plt.xticks([0.06, 0.08, 0.10, 0.12, 0.14, 0.16, 0.17])\n",
    "\n",
    "#Vis stolpediagram\n",
    "plt.show()\n",
    "plt.clf()"
   ]
  },
  {
   "cell_type": "raw",
   "id": "4cb2a862-7366-456e-92cc-b7f4b5505574",
   "metadata": {},
   "source": [
    "Fordelingen av glatthet er relativt jevn, med kun noen få ekstreme verdier."
   ]
  },
  {
   "cell_type": "markdown",
   "id": "645161ee-8b84-4e14-839c-eb2c59ad625e",
   "metadata": {},
   "source": [
    "#### 5.2.2 Fordeling av konkavitet"
   ]
  },
  {
   "cell_type": "markdown",
   "id": "34247706-3a0b-4fdc-b217-80b6770af22d",
   "metadata": {},
   "source": [
    "Konkavitet ble bestemt ved å måle størrelsen på eventuelle innbuktninger i cellekjernens ytterkant."
   ]
  },
  {
   "cell_type": "code",
   "execution_count": null,
   "id": "fba52403-78f9-48d8-9f07-f62fc8c00dfe",
   "metadata": {
    "scrolled": true
   },
   "outputs": [],
   "source": [
    "plt.hist(df_kreft_ren[\"concavity_mean\"],bins = 20)\n",
    "plt.xlabel(\"Konkavitet (grad av innbrukting i svulskonturen)\")\n",
    "plt.ylabel(\"Antall pasienter\")\n",
    "plt.title(\"Fordeling av konkavitet\")\n",
    "plt.xticks([0, 0.05, 0.10, 0.15, 0.20, 0.25, 0.30, 0.35, 0.40, 0.45])\n",
    "\n",
    "#Vis stolpediagram\n",
    "plt.show()\n",
    "plt.clf()"
   ]
  },
  {
   "cell_type": "markdown",
   "id": "e08d598e-e12a-41e5-8231-0044cda5d5c8",
   "metadata": {},
   "source": [
    "Stolpediagrammet for konkavitet viser verdier fra 0 til 0.45. Vi ser at de fleste av cellekjernene hadde en konkavitet mellom 0 og 0.1, noe som indikerer at overflaten til kreftsvulstenes cellekjerner generelt var ganske regelmessig. Imidlertid ser vi også en del prøver med en høyere grad av innbuktning noe som kan være assosiert med ondartert type kreftseller."
   ]
  },
  {
   "cell_type": "markdown",
   "id": "808d0653-7a77-4a97-a438-d6dec28527b4",
   "metadata": {},
   "source": [
    "#### 5.2.3 Fordeling av Konkave punkter"
   ]
  },
  {
   "cell_type": "markdown",
   "id": "ef790d19-035f-488c-9047-f8eb3d00cd9a",
   "metadata": {},
   "source": [
    "Konkave punkter telte antall punkter på cellekjernens ytterkant som ligger i en innbuktning."
   ]
  },
  {
   "cell_type": "code",
   "execution_count": null,
   "id": "5977d3ab-4261-4817-8fb8-e322bece87e4",
   "metadata": {},
   "outputs": [],
   "source": [
    "plt.hist(df_kreft_ren[\"concave points_mean\"],bins = 20)\n",
    "plt.xlabel(\"Antall konkave punkter\")\n",
    "plt.ylabel(\"Antall pasienter\")\n",
    "plt.title(\"Fordeling av konkave punkter i svulstkonturer\")\n",
    "plt.xticks([0.00, 0.050, 0.100, 0.1500, 0.200])\n",
    "\n",
    "#Vis stolpediagram\n",
    "plt.show()\n",
    "plt.clf()"
   ]
  },
  {
   "cell_type": "raw",
   "id": "38f9b812-fa42-4486-a589-432ea4640302",
   "metadata": {},
   "source": [
    "Stolpediagrammet viser gjennomsnittig antall konkave poenger i cellkjernene til kreftsvulstene. Fordelingen av konkave punkter lingner fordelingen til konkavitet svært mye, noe som sterkt antyder en høy korellasjon mellom disse to variablene.  Vi skal senere undersøkesammenhengen mellom disse overflatevariablene overflateegenskapene og kreftsvulsttype."
   ]
  },
  {
   "cell_type": "markdown",
   "id": "8816103e-32ec-4e57-95ca-f03534c65bae",
   "metadata": {},
   "source": [
    "## 5.3 Teksturegenskaper"
   ]
  },
  {
   "cell_type": "markdown",
   "id": "7ba393a6-1bae-458f-bacf-88a9d55c85b9",
   "metadata": {},
   "source": [
    "Tekstur egenskaper er følgene: tekstur, symmetri, kompakthetsindeks, og fraktal dimensjon\n",
    "Justerer stil og farge til teksturegenskaper"
   ]
  },
  {
   "cell_type": "markdown",
   "id": "731d7cc9-3d48-40c3-9808-5cdac302bbe3",
   "metadata": {},
   "source": [
    "Stil til teksturegenskaper justeres:"
   ]
  },
  {
   "cell_type": "markdown",
   "id": "2c09bc94-9d56-4051-b7fc-9d2a808dea7f",
   "metadata": {},
   "source": [
    "sns.set_style(\"white\")"
   ]
  },
  {
   "cell_type": "markdown",
   "id": "4be0652d-3f0d-4948-a36a-1502932fab9e",
   "metadata": {},
   "source": [
    "#### 5.3.1 Tekstur"
   ]
  },
  {
   "cell_type": "markdown",
   "id": "188d3919-1aaf-4332-acb8-318879de595f",
   "metadata": {},
   "source": [
    "Tekstur ble målt ved å finne variansen i gråtoneintensitetene i de enkelte pikslene."
   ]
  },
  {
   "cell_type": "code",
   "execution_count": null,
   "id": "ca1c7f81-a2c4-4fa3-8adc-5fb888ec422d",
   "metadata": {},
   "outputs": [],
   "source": [
    "plt.hist(df_kreft_ren[\"texture_mean\"], bins = 20, color = \"blue\")\n",
    "plt.xlabel(\"Tekstur(standardavvik av gråskalverdier)\")\n",
    "plt.ylabel(\"Antall pasienter\")\n",
    "plt.title(\"Fordeling av svulsttekstur\")\n",
    "\n",
    "#Vis stolpediagram\n",
    "plt.show()\n",
    "plt.clf()"
   ]
  },
  {
   "cell_type": "raw",
   "id": "c673f5c1-b85f-4293-8dc9-43b64d347920",
   "metadata": {},
   "source": [
    "Fordelingen av tekstur ser ut til å tilnærme seg en normalfordeling, men har en noe langstrakt hale mot høyre. Dette indikerer tilstedeværelsen av potensielle uteliggere (outliers) i datasettet for denne variabelen. Jeg vil identifisere og kvantifisere disse i en senere del av analysen."
   ]
  },
  {
   "cell_type": "markdown",
   "id": "2e283a94-a514-48d4-87ee-b727a504ccd3",
   "metadata": {},
   "source": [
    "#### 5.3.2 Symmetri"
   ]
  },
  {
   "cell_type": "markdown",
   "id": "378b8f3b-7250-4777-b6c5-90829f18f841",
   "metadata": {},
   "source": [
    "Symmetri ble målt ved å finne den relative forskjell i lengde mellom linjesegmenter som var vinkelrett på og på hver side av hovedaksen."
   ]
  },
  {
   "cell_type": "code",
   "execution_count": null,
   "id": "cebc2fad-1970-4463-836a-9f7ff4cf2fb7",
   "metadata": {},
   "outputs": [],
   "source": [
    "#Fordeling av symmetri\n",
    "plt.hist(df_kreft_ren[\"symmetry_mean\"],bins = 20, color = \"blue\" )\n",
    "plt.xlabel(\"Svulstsenes symmetriindex\")\n",
    "plt.ylabel(\"Antall pasienter\")\n",
    "plt.title(\"Fordeling av svulstenes symmetriegenskaper\")\n",
    "\n",
    "#Vis stolpediagram\n",
    "plt.show()\n",
    "plt.clf()"
   ]
  },
  {
   "cell_type": "raw",
   "id": "828a9458-0a0c-42c8-8f55-affd71d32ca5",
   "metadata": {},
   "source": [
    "Fordeling av symmetri indeks er ganske jevnt med få ekstreme verdier mot høyre"
   ]
  },
  {
   "cell_type": "markdown",
   "id": "05abdab6-10a3-4e4f-9572-35e429011da3",
   "metadata": {},
   "source": [
    "#### 5.3.3 Kompakthet"
   ]
  },
  {
   "cell_type": "markdown",
   "id": "3e74dae0-90a4-40f8-8b25-3dbdf9e35242",
   "metadata": {},
   "source": [
    "Omkrets og areal ble kombinert for å gi et mål på kompaktheten til cellekjernene ved hjelp av følgende formel: omkrets²/areal."
   ]
  },
  {
   "cell_type": "code",
   "execution_count": null,
   "id": "ef95ded6-034c-402d-93e9-6fe22031057d",
   "metadata": {},
   "outputs": [],
   "source": [
    "\n",
    "plt.hist(df_kreft_ren[\"compactness_mean\"],bins = 20, color = \"blue\")\n",
    "plt.xlabel(\"Kompakthetsindeks (perimeter²/area - 1)\")\n",
    "plt.ylabel(\"Antall pasienter\")\n",
    "plt.title(\"Fordeling av svulstenes kompakthet\")\n",
    "\n",
    "#Vis stolpediagram\n",
    "plt.show()\n",
    "plt.clf()\n",
    "\n"
   ]
  },
  {
   "cell_type": "raw",
   "id": "e131bfcc-bb20-4d58-9c54-487a78735c48",
   "metadata": {},
   "source": [
    "Stolpediagrammet for kompakthet viser en venstreskjev fordeling, noe som indikerer en ujevn distribusjon. De deskriptive statistikkene fra begynnelsen av prosjektet viste også en lavere median (0.092630) enn gjennomsnittet (0.104341), noe som antyder en positiv skjevhet med flere høye ekstremverdier."
   ]
  },
  {
   "cell_type": "markdown",
   "id": "de7f6a28-7d67-4e8f-af2c-423407ec5983",
   "metadata": {},
   "source": [
    "#### 5.3.4 Fraktal dimensjon"
   ]
  },
  {
   "cell_type": "markdown",
   "id": "a3f1995d-52dc-472f-a613-7779f4451c5d",
   "metadata": {},
   "source": [
    "Fraktal dimensjon ble tilnærmet ved hjelp av \"kystlinjeapproksimasjonen\" som målte uregelmessigheten i cellekjernens ytterkant."
   ]
  },
  {
   "cell_type": "code",
   "execution_count": null,
   "id": "df8124a4-742a-4e41-8bec-3567e017df25",
   "metadata": {},
   "outputs": [],
   "source": [
    "#Fordeling av Fraktal dimensjon\n",
    "plt.hist(df_kreft_ren[\"fractal_dimension_mean\"],bins = 20, color = \"blue\")\n",
    "plt.xlabel(\"Fraktal dimensjon (grenseflatekompleksitet)\")\n",
    "plt.ylabel(\"Antall pasienter\")\n",
    "plt.title(\"Fordeling av svulstenes fraktale struktur\")\n",
    "\n",
    "#Vis stolpediagram\n",
    "plt.show()\n",
    "plt.clf()"
   ]
  },
  {
   "cell_type": "raw",
   "id": "8c621942-d322-462d-897b-3bb0a9b11791",
   "metadata": {},
   "source": [
    "Stolpediagrammet for fraktal dimensjon viser også en venstreskjev fordeling, noe som indikerer en ujevn distribusjon og antyder en positiv skjevhet med flere høye ekstremverdier. Høye verdier for fraktal dimensjon, som representerer økt uregelmessighet i cellekjernens ytterkant, er mest sannsynlig assosiert med ondartede kreftsvulster."
   ]
  },
  {
   "cell_type": "markdown",
   "id": "d6da77c6-0913-48db-8850-6f3101401ab2",
   "metadata": {},
   "source": [
    "## 5.4 Visualisering og analyse av kreftsvulststørrelse\n",
    "I forrige del visualiserte jeg tre hovedkategorier av variabler: størrelse (omkrets, radius og areal), overflateegenskaper (glatthet, konkavitet, konkave punkter) og teksturegenskaper (tekstur, symmetri, kompakthetsindeks og fraktal dimensjon).\n",
    "\n",
    "I denne delen skal jeg visualisere IQR-uteliggere og undersøke størrelsesvariablene (areal, omkrets og radius) nærmere, med fokus på deres fordeling, kvartiler, ekstremverdier, gjennomsnitt og konfidensintervaller (KI).\n",
    "\n",
    "I tillegg skal jeg visualisere konfidensintervaller og gjennomsnittlige verdier for variablene ved hjelp av søylediagrammer.\n"
   ]
  },
  {
   "cell_type": "raw",
   "id": "6f1bca76-d69b-4b18-8005-158328751ee1",
   "metadata": {},
   "source": [
    "Justering av stil og farge for størrelsesvariabler"
   ]
  },
  {
   "cell_type": "code",
   "execution_count": null,
   "id": "dc8e2e64-067b-4359-a5b6-de10fd7f23a6",
   "metadata": {},
   "outputs": [],
   "source": [
    "sns.set_context(\"notebook\")\n",
    "sns.set_style(\"whitegrid\")\n",
    "sns.set_palette(\"PRGn_r\")\n",
    "#Definisjon av etiker for krefttyper\n",
    "xtick_labels_type_kreft = [\"Godartet\", \"Ondartet\"]"
   ]
  },
  {
   "cell_type": "markdown",
   "id": "04f0c851-8ff0-44ca-b004-3e5b4e73e9b5",
   "metadata": {},
   "source": [
    "#### 5.4.1 Vurdering og visualisering av uteliggere i cellekjernens radiusforskjeller mellom godartede og ondartede kreftsvulster"
   ]
  },
  {
   "cell_type": "markdown",
   "id": "51933978-2a50-4154-b7e5-df2f9c6721ff",
   "metadata": {},
   "source": [
    "Visualisering av radius\n",
    "Boksplott for radius"
   ]
  },
  {
   "cell_type": "code",
   "execution_count": null,
   "id": "7ae39c66-0df7-40db-9067-e51e810360d0",
   "metadata": {},
   "outputs": [],
   "source": [
    "radius_box = sns.catplot(x = \"num_diagnosis\", \n",
    "                       y = \"radius_mean\",\n",
    "                       data = df_kreft_ren, \n",
    "                       kind = \"box\",\n",
    "                       hue = \"num_diagnosis\", \n",
    "                       legend = False)\n",
    "\n",
    "#Tilpass radius_box_plot\n",
    "radius_box.figure.suptitle(\"Radius fordelt mellom godartede og ondartede kreftsvulster\", y = 1.05)\n",
    "plt.xticks([0, 1], labels = [\"Godartet\", \" Ondartet\"])\n",
    "plt.xlabel(\"Kreftsvulsttype\")\n",
    "plt.ylabel(\"Gjennomsnittlig radius (µm)\")\n",
    "\n",
    "#Vis plot\n",
    "plt.show()\n",
    "plt.clf()\n"
   ]
  },
  {
   "cell_type": "raw",
   "id": "5c860a63-45bb-4bc0-8b4c-51164030aef6",
   "metadata": {},
   "source": [
    "Boksplottet viser at ondartede kreftsvulster har en høyere medianradius sammenlignet med godartede kreftsvulster. I tillegg har radiusen til ondartede svulster mye større ekstremverdier sammenlignet med godartede svulster. For eksempel har den største godartede kreftsvulsten omtrent samme radius som medianradiusen for ondartede kreftsvulster."
   ]
  },
  {
   "cell_type": "markdown",
   "id": "25fe6f5f-85b0-4066-befe-2225c68fd08f",
   "metadata": {},
   "source": [
    "Søylediagram for radius"
   ]
  },
  {
   "cell_type": "code",
   "execution_count": null,
   "id": "a80886e5-8430-4e2c-bcf2-5a03101712c2",
   "metadata": {},
   "outputs": [],
   "source": [
    "radius_bar = sns.catplot(x = \"num_diagnosis\",\n",
    "                       y = \"radius_mean\", \n",
    "                       data = df_kreft_ren, \n",
    "                       kind = \"bar\",\n",
    "                       hue = \"num_diagnosis\", \n",
    "                       legend = False)\n",
    "\n",
    "#Tilpass søylediagram\n",
    "radius_bar.figure.suptitle(\"Gjennomsnittlig radius fordelt mellom godartede og ondartede kreftsvulster\", y = 1.05)\n",
    "plt.xticks([0, 1], labels = xtick_labels_type_kreft)\n",
    "plt.xlabel(\"Kreftsvulsttype\")\n",
    "plt.ylabel(\"Gjennomsnittlig radius (µm)\")\n",
    "\n",
    "#Vis søylediagram\n",
    "plt.show()\n",
    "plt.clf()\n"
   ]
  },
  {
   "cell_type": "markdown",
   "id": "6a1ba5d9-5e9f-4b2a-b66d-d385a180857b",
   "metadata": {},
   "source": [
    "Gjennomsnittig og median cellekjerneradius fordelt mellom godartede og ondartede kreftsvulster hvor 0 = Godartet og 1 = Ondartert kreftsvulst\n"
   ]
  },
  {
   "cell_type": "code",
   "execution_count": null,
   "id": "45da1367-b917-4da0-9a36-739546f8f0c5",
   "metadata": {},
   "outputs": [],
   "source": [
    "pd.pivot_table(df_kreft_ren,index = \"num_diagnosis\",values = \"radius_mean\" , aggfunc = [\"mean\",\"median\"])"
   ]
  },
  {
   "cell_type": "raw",
   "id": "67c07438-6aac-4590-8a1f-0a118d8d62a7",
   "metadata": {},
   "source": [
    "Søylediagrammet for radius og dets konfidensintervaller viser at det er en forskjell i gjennomsnittlig størrelse (radius) mellom godartede (ca. 12.5 µm) og ondartede (ca. 17.5 µm) svulster. Jeg vil ikke bruke inferensiell statistikk for dette nå. Jeg ønsker bare å forstå de kontinuerlige verdiene i variablene. Bruk av t-test faller utenfor  målet og rammene av dette prosjektet. I stedet vil jeg kategorisere alle størrelsesvariablene samlet og undersøke assosiasjonen mellom størrelse og kreftsvulsttype."
   ]
  },
  {
   "cell_type": "markdown",
   "id": "b748692c-088d-4579-92d0-7801628bd9bb",
   "metadata": {},
   "source": [
    "#### 5.4.2 Vurdering og visualisering av uteliggere i cellekjernens omkretsforskjeller mellom godartede og ondartede kreftsvulster"
   ]
  },
  {
   "cell_type": "markdown",
   "id": "9305f015-406f-42f9-a88a-48c76bcb918f",
   "metadata": {},
   "source": [
    "Visualisering omkrets\n",
    "Boksplott for omkrets"
   ]
  },
  {
   "cell_type": "code",
   "execution_count": null,
   "id": "01d5350e-0be0-4973-9a0e-7b4996eaadc5",
   "metadata": {},
   "outputs": [],
   "source": [
    "omkrets_box = sns.catplot(x = \"num_diagnosis\" ,\n",
    "                          y = \"perimeter_mean\", \n",
    "                          data = df_kreft_ren, \n",
    "                          kind = \"box\", \n",
    "                          hue = \"num_diagnosis\", \n",
    "                          legend = False)\n",
    "\n",
    "#Tilpass omkrets boksplott\n",
    "omkrets_box.fig.suptitle(\"Omkrets fordelt mellom godartede og ondartede kreftsvulster\", y = 1.05)\n",
    "plt.xticks([0,1], labels = xtick_labels_type_kreft)\n",
    "plt.xlabel(\"Kreftsvulst type\")\n",
    "plt.ylabel(\"Omkrets\")\n",
    "\n",
    "#Vis boksplott\n",
    "plt.show()\n",
    "plt.clf()\n"
   ]
  },
  {
   "cell_type": "markdown",
   "id": "e6617f41-aa4a-4679-bf27-9c10b814f4b5",
   "metadata": {},
   "source": [
    "Som for radiusvariabelen ser vi at medianomkretsen for ondartede kreftsvulster omtrent tilsvarer uteliggerne for godartede svulster. Medianradiusen for godartede og ondartede kreftsvulster ligger ganske langt fra hverandre."
   ]
  },
  {
   "cell_type": "raw",
   "id": "38c9e871-0382-474a-9ce7-afb835eab057",
   "metadata": {},
   "source": [
    "Søylediagram for omkrets"
   ]
  },
  {
   "cell_type": "code",
   "execution_count": null,
   "id": "67c15bf7-64d8-4caa-87b3-1df2c11610d4",
   "metadata": {
    "scrolled": true
   },
   "outputs": [],
   "source": [
    "omkrets_catplot = sns.catplot(x = \"num_diagnosis\",\n",
    "                             y = \"perimeter_mean\",\n",
    "                             data = df_kreft_ren,\n",
    "                             kind = \"bar\",\n",
    "                             hue = \"num_diagnosis\",\n",
    "                             legend = False)\n",
    "\n",
    "#Tilpass søylediagram for omkrets\n",
    "omkrets_catplot.figure.suptitle(\"Gjennomsnittlig omkrets fordelt mellom godartede og ondartede kreftsvulster\", y = 1.08)\n",
    "plt.xticks([0, 1], labels = xtick_labels_type_kreft)\n",
    "plt.ylabel(\"Omkrets\")\n",
    "plt.xlabel(\"Kreftsvulst type\")\n",
    "\n",
    "#Vis søylediagram\n",
    "plt.show()\n"
   ]
  },
  {
   "cell_type": "markdown",
   "id": "e21a04e5-d209-4a75-91b5-6864ebb6e403",
   "metadata": {},
   "source": [
    "Gjennomsnittig og median cellekjerneomkrets fordelt mellom godartede og ondartede kreftsvulster hvor 0 = Godartet og 1 = Ondartert kreftsvulst"
   ]
  },
  {
   "cell_type": "code",
   "execution_count": null,
   "id": "026afcca-e465-48c4-a93f-77bd5ddb91d1",
   "metadata": {},
   "outputs": [],
   "source": [
    "duckdb.query(\"\"\"\n",
    "SELECT AVG(perimeter_mean) AS average_perimeter, \n",
    "       MEDIAN(perimeter_mean)  AS median_perimeter\n",
    "       FROM df_kreft_ren \n",
    "       GROUP BY num_diagnosis;\"\"\").to_df()"
   ]
  },
  {
   "cell_type": "markdown",
   "id": "84f70acf-3643-4137-bc63-6df1398f39aa",
   "metadata": {},
   "source": [
    "Søylediagrammet viser at gjennomsnittlig cellekjerneomkrets pleier å være større hos ondartede enn hos godartede kreftsvulster.Søylediagrammet viser at gjennomsnittlig cellekjerneomkrets er omtrent 78µm for godartede og 110 µm for ondartede svulster."
   ]
  },
  {
   "cell_type": "markdown",
   "id": "9e35f26a-abb6-4fde-8339-6e096879098f",
   "metadata": {},
   "source": [
    "#### 5.4.3 Vurdering og visualisering av uteliggere i cellekjernens areal omkretsforskjeller mellom godartede og ondartede kreftsvulster"
   ]
  },
  {
   "cell_type": "markdown",
   "id": "a567c22b-d954-4cfa-8ad4-f31bbed507be",
   "metadata": {},
   "source": [
    " Visualisering av areal\n",
    " Boksplott for areal"
   ]
  },
  {
   "cell_type": "code",
   "execution_count": null,
   "id": "64f7009f-6de3-4984-bd99-e0c6dbcce8b1",
   "metadata": {},
   "outputs": [],
   "source": [
    "area_box = sns.catplot(y = \"area_mean\", \n",
    "                       x = \"num_diagnosis\", \n",
    "                       data = df_kreft_ren, \n",
    "                       hue = \"num_diagnosis\", \n",
    "                       legend = False, \n",
    "                       kind = \"box\")\n",
    "# Tilpass boksplott\n",
    "area_box.fig.suptitle(\"Areal fordelt mellom godartede og ondartede kreftsvulster\", y = 1.08)\n",
    "plt.xticks(ticks= [0, 1], labels= xtick_labels_type_kreft)\n",
    "plt.xlabel(\"Kreftsvulsttype\")\n",
    "plt.ylabel(\"Areal\")\n",
    "\n",
    "#Vis plott\n",
    "plt.show()\n",
    "plt.clf()"
   ]
  },
  {
   "cell_type": "markdown",
   "id": "85089d15-873b-4562-84f3-d56cfff81cff",
   "metadata": {},
   "source": [
    "Gjennomsnittig og median cellekjernesareal fordelt mellom godartede og ondartede kreftsvulster hvor hvor 0 = Godartet og 1 = Ondartert kreftsvulst"
   ]
  },
  {
   "cell_type": "code",
   "execution_count": null,
   "id": "412e1da5-a12e-4960-bd18-24986eeba6db",
   "metadata": {},
   "outputs": [],
   "source": [
    "print(df_kreft_ren[\"area_mean\"].groupby(df_kreft_ren[\"num_diagnosis\"]).agg([\"mean\", \"median\"]))"
   ]
  },
  {
   "cell_type": "raw",
   "id": "5d0f9b0b-9a0a-47a2-8f03-01d86574b2e6",
   "metadata": {},
   "source": [
    "Boksplottene og tabel viser at medianarealet for godartede kreftsvulster (ca. 450 µm²) er betydelig mindre enn medianarealet for ondartede kreftsvulster (ca. 932 µm²). Når det gjelder uteliggere, er det også en tydelig forskjell. De fleste uteliggerne for godartede svulster ligger under ca. 1000 µm², mens de for ondartede svulster strekker seg fra ca. 2000 til 2500 µm²."
   ]
  },
  {
   "cell_type": "code",
   "execution_count": null,
   "id": "5fa0aa01-06ef-432b-ae3a-2c9bbc5ce99a",
   "metadata": {},
   "outputs": [],
   "source": [
    "area_cat = sns.catplot(x = \"num_diagnosis\", \n",
    "                       y = \"area_mean\",  \n",
    "                       data = df_kreft_ren, \n",
    "                       kind = \"bar\",\n",
    "                       hue = \"num_diagnosis\",\n",
    "                       legend = False,\n",
    "                       capsize = 0.04)\n",
    "\n",
    "#Tilpass søylediagram\n",
    "area_cat.fig.suptitle(\"Areal fordelt mellom godartede og ondartede kreftsvulster\", y = 1.08)\n",
    "plt.xlabel(\"Kreftsvulst type\")\n",
    "plt.ylabel(\"Gjennomsnittlig areal (mm²)\")\n",
    "plt.xticks(ticks = [0, 1], labels = xtick_labels_type_kreft)\n",
    "\n",
    "#Vis søylediagram\n",
    "plt.show()\n",
    "plt.clf()"
   ]
  },
  {
   "cell_type": "raw",
   "id": "d24a5091-0f55-4472-93fc-cab134b13e67",
   "metadata": {},
   "source": [
    "Det er en stor forskjell i gjennomsnittlig areal mellom godartede kreftsvulster (ca. 450 µm²) og ondartede kreftsvulster (ca. 970 µm²)."
   ]
  },
  {
   "cell_type": "markdown",
   "id": "1d213e48-6e7e-49d6-891a-c6f5d42b361a",
   "metadata": {},
   "source": [
    "Søylediagrammer og boksplotter viste konsistent at ondartede og godartede skilte seg fra hverandre i cellekjernestørrelse. I hvert tilfelle hadde ondartede kreftsvulster en høyere median og gjennomsnittlig areal, omkrets og radius. Videre var det betydelig flere ekstremt store cellekjerner blant ondartede kreftsvulster, og selv de største cellekjernene i godartede svulster var mye mindre sammenlignet med de ondartede. Gjennomsnittet var konsistent høyere enn medianen, hos alle størrelsesvariablene, noe som tilsvarer en høyre-skjev fordeling. Dette forklarer det høyere gjennomsnittet for størrelsesvariablene og tilstedeværelsen av noen ekstremt store cellekjerner blant kreftsvulstene."
   ]
  },
  {
   "cell_type": "markdown",
   "id": "96d86e69-f278-41c5-8c28-f2737bb5bf40",
   "metadata": {},
   "source": [
    "## 5.5. Visualisering og analyse av kreftsvulsters overflateegenskaper"
   ]
  },
  {
   "cell_type": "markdown",
   "id": "66f5e1bb-03ab-47ce-8607-a833762a2654",
   "metadata": {},
   "source": [
    "I forrige del visualiserte jeg cellekjerners størrelsesvariabler. I denne delen skal jeg fokusere på overflateegenskaper (glatthet, konkavitet og konkave punkter).\n",
    "I denne delen skal jeg visualisere uteliggere og undersøke overflateegenskapene (glatthet, konkavitet og konkave punkter) nærmere, med fokus på deres fordeling, gjennomsnitt, median, kvartiler og ekstremverdier.\n",
    "I tillegg skal jeg visualisere konfidensintervaller og gjennomsnittlige verdier for variablene ved hjelp av søylediagrammer."
   ]
  },
  {
   "cell_type": "markdown",
   "id": "932c1825-9a86-45cb-90d4-197eebbab5ca",
   "metadata": {},
   "source": [
    "Justering av stil for overflateegenskaper\n"
   ]
  },
  {
   "cell_type": "code",
   "execution_count": null,
   "id": "ccc028fc-06a3-4c52-a9d9-3872914c143a",
   "metadata": {},
   "outputs": [],
   "source": [
    "sns.set_context(\"notebook\")\n",
    "sns.set_style(\"darkgrid\")\n",
    "sns.set_palette(\"RdBu\")"
   ]
  },
  {
   "cell_type": "markdown",
   "id": "1e891916-0504-42f8-b643-0ca1ba3dd752",
   "metadata": {},
   "source": [
    "\n",
    "#### 5.5.1 Visualisering av uteliggere, median og kvartiler for cellekjerners glatthet fordelt mellom ondartede og godartede kreftsvulster"
   ]
  },
  {
   "cell_type": "code",
   "execution_count": null,
   "id": "d48db62b-e1f4-4658-afde-4ce1caaaff53",
   "metadata": {},
   "outputs": [],
   "source": [
    "smoothness_box = sns.catplot(x = \"num_diagnosis\",\n",
    "                 y = \"smoothness_mean\", \n",
    "                 data = df_kreft_ren, \n",
    "                 hue = \"num_diagnosis\", \n",
    "                 legend = False,\n",
    "                 kind = \"box\")\n",
    "\n",
    "#Tilpass glatthet boksplott\n",
    "smoothness_box.figure.suptitle(\"Glatthet fordelt mellom godartede og ondartede kreftsvulster\", y = 1.06)\n",
    "plt.xticks([0,1], labels = xtick_labels_type_kreft)\n",
    "plt.xlabel(\"Kreftsvulst type\")\n",
    "plt.ylabel(\"Glatthet\")\n",
    "\n",
    "#Vis boksplott\n",
    "plt.show()\n",
    "plt.clf()"
   ]
  },
  {
   "cell_type": "markdown",
   "id": "a02213da-42fe-46d4-9795-042820699e27",
   "metadata": {},
   "source": [
    "Gjennomsnittlig og median cellekjerneglatthet fordelt mellom godartede og ondartede kreftsvulster (0 = Godartet, 1 = Ondartet):"
   ]
  },
  {
   "cell_type": "code",
   "execution_count": null,
   "id": "71b665fd-4fbb-4ce6-aff0-d8f256a995df",
   "metadata": {},
   "outputs": [],
   "source": [
    "duckdb.query(\"\"\"\n",
    "SELECT AVG(smoothness_mean) AS average_smoothness, \n",
    "       MEDIAN(smoothness_mean)  AS median_smoothness\n",
    "       FROM df_kreft_ren \n",
    "       GROUP BY num_diagnosis;\"\"\").to_df()"
   ]
  },
  {
   "cell_type": "markdown",
   "id": "2afd8568-54c8-4b83-a77e-21709a6a9c09",
   "metadata": {},
   "source": [
    "Boksplottet viser at godartede kreftsvulster generelt har lavere glatthet enn ondartede kreftsvulster. Det er også forskjeller i fordelingen av uteliggere mellom de to gruppene. Ondartede svulster har en tendens til å ha uteliggere konsentrert rundt en verdi på ca. 0.014, mens uteliggere for godartede svulster er mer spredt, med verdier mellom ca. 0.013 og 0.017."
   ]
  },
  {
   "cell_type": "markdown",
   "id": "1e816c6e-dd8d-4bf9-879b-cd0a7bb7bbe8",
   "metadata": {},
   "source": [
    "Søylediagram for glatthet"
   ]
  },
  {
   "cell_type": "code",
   "execution_count": null,
   "id": "4937ba6f-c9a5-421e-903d-00c850654606",
   "metadata": {},
   "outputs": [],
   "source": [
    "smoothness_bar = sns.catplot(x = \"num_diagnosis\",\n",
    "                 y = \"smoothness_mean\", \n",
    "                 data = df_kreft_ren, \n",
    "                 hue = \"num_diagnosis\", \n",
    "                 legend = False,\n",
    "                 kind = \"bar\")\n",
    "\n",
    "\n",
    "#Tiplass glatthet søylediagram\n",
    "smoothness_bar.figure.suptitle(\"Gjennomsnittlig glatthet fordelt mellom godartede og ondartede kreftsvulster\", y = 1.05)\n",
    "plt.xticks([0, 1], labels = xtick_labels_type_kreft)\n",
    "plt.xlabel(\"Kreftsvulst type\")\n",
    "plt.ylabel(\"Glatthet\")\n",
    "\n",
    "#Vis søylediagram\n",
    "plt.show()\n",
    "plt.clf()"
   ]
  },
  {
   "cell_type": "raw",
   "id": "06534308-dd14-47b0-9e2b-44da82b2be91",
   "metadata": {},
   "source": [
    "Søylediagrammet viser at det er en liten, men merkbar forskjell i gjennomsnittlig glatthet mellom godartede og ondartede kreftsvulster.  Glatthet ser ut til å være mindre avgjørende for å skille mellom ondartede og godartede kreftsvulster enn størrelsesvariablene."
   ]
  },
  {
   "cell_type": "markdown",
   "id": "4e436482-55f0-4ef7-9316-b239ca8e5a52",
   "metadata": {},
   "source": [
    "\n",
    "####5.5.2 Visualisering av uteliggere, median og kvartiler for cellekjerners konkavitet fordelt mellom ondartede og godartede kreftsvulster"
   ]
  },
  {
   "cell_type": "markdown",
   "id": "704c19f0-adb5-4ccc-a1bb-43a719c45683",
   "metadata": {},
   "source": [
    "\n",
    "Konkavitetsboksplott"
   ]
  },
  {
   "cell_type": "code",
   "execution_count": null,
   "id": "2a629601-c92a-4030-a04b-cfd73a6cf842",
   "metadata": {},
   "outputs": [],
   "source": [
    "concavity_box = sns.catplot(x = \"num_diagnosis\", \n",
    "                            y = \"concavity_mean\", \n",
    "                            data = df_kreft_ren, \n",
    "                            hue = df_kreft_ren[\"num_diagnosis\"], \n",
    "                            legend = False, \n",
    "                            kind = \"box\")\n",
    "\n",
    "#Tilpass konkavitet boksplott\n",
    "concavity_box.fig.suptitle(\"Konkavitet fordelt mellom godartede og ondartede kreftsvulster\", y = 1.05)\n",
    "plt.xticks(ticks = [0,1], labels = xtick_labels_type_kreft)\n",
    "plt.xlabel(\"Kreftsvulst type\")\n",
    "plt.ylabel(\"Konkavitet (grad av innbrukting i svulskonturen)\")\n",
    "\n",
    "#Vis konkavitet boksplott\n",
    "plt.show()\n",
    "plt.clf()"
   ]
  },
  {
   "cell_type": "raw",
   "id": "19607dfa-c027-4646-89e6-6ae1ebf8a96c",
   "metadata": {},
   "source": [
    "Gjennomsnittlig og median cellekjernekonkavitet fordelt mellom godartede og ondartede kreftsvulster (0 = Godartet, 1 = Ondartet):"
   ]
  },
  {
   "cell_type": "code",
   "execution_count": null,
   "id": "53621dbd-945a-427d-8496-c128d1ff6d0b",
   "metadata": {},
   "outputs": [],
   "source": [
    "print(df_kreft_ren[\"concavity_mean\"].groupby(df_kreft_ren[\"num_diagnosis\"]).agg([\"mean\", \"median\"]))"
   ]
  },
  {
   "cell_type": "markdown",
   "id": "665d49cd-5864-4e8e-8bc3-467052035a5b",
   "metadata": {},
   "source": [
    "Boksplot og tabell viser at godartede kreftsvulster har en lavere median for gjennomsnittlig konkavitet (0.03) enn ondartede kreftsvulster (0.15). Vi ser flere uteliggere som ligger langt utenfor vanlig IQR. Dette er greit, siden jeg ikke skal bruke denne variabelen som kontinuerlig, men jeg skal omkode den til en dikotom variabel når jeg bruker den til prediksjoner."
   ]
  },
  {
   "cell_type": "markdown",
   "id": "e956f8c4-1722-42a9-87a2-42462dd0ea74",
   "metadata": {},
   "source": [
    "Konkavitetsøylediagram"
   ]
  },
  {
   "cell_type": "code",
   "execution_count": null,
   "id": "9b84d675-2347-4de8-aa60-84a836b64ece",
   "metadata": {},
   "outputs": [],
   "source": [
    "concavity_bar = sns.catplot(x = \"num_diagnosis\", \n",
    "                            y = \"concavity_mean\", \n",
    "                            data = df_kreft_ren,\n",
    "                            kind = \"bar\",\n",
    "                            hue =\"num_diagnosis\", \n",
    "                            legend = False,\n",
    "                            capsize = 0.04)\n",
    "\n",
    "#Tilpass konkavitet søylediagram\n",
    "concavity_bar.fig.suptitle(\"Konkavitet fordelt mellom godartede og ondartede kreftsvulster\", y = 1.05)\n",
    "plt.xticks(ticks = [0,1 ],labels = xtick_labels_type_kreft)\n",
    "plt.xlabel(\"Kreftsvulst type\")\n",
    "plt.ylabel(\"Konkavitet (grad av innbrukting i svulskonturen)\")\n",
    "\n",
    "#Vis konkavitet søylediagram\n",
    "plt.show()\n",
    "plt.clf()"
   ]
  },
  {
   "cell_type": "markdown",
   "id": "f73fd2d1-7ce6-4c35-965e-1c73d56edd78",
   "metadata": {},
   "source": [
    "Gjennomsnittlig konkavitet av cellekjernen er mye lavere blant godartede (0.04) enn blant ondartede (0.16) kreftsvulster."
   ]
  },
  {
   "cell_type": "markdown",
   "id": "a0d7d296-de79-4d71-900d-8c3e5ff75f5d",
   "metadata": {},
   "source": [
    "#### 5.5.3 Visualisering av uteliggere, median og kvartiler for cellekjerners konkavitee punkter fordelt mellom ondartede og godartede kreftsvulster"
   ]
  },
  {
   "cell_type": "markdown",
   "id": "eecc5241-8852-4942-bd3e-f8946202ef2d",
   "metadata": {},
   "source": [
    "Visualisering av konkave punkter\n",
    "Konkave punkter boksplott"
   ]
  },
  {
   "cell_type": "code",
   "execution_count": null,
   "id": "c331c018-3b0c-4483-bdb1-5a5edd7b4d46",
   "metadata": {},
   "outputs": [],
   "source": [
    "concave_points_box = sns.catplot(x = \"num_diagnosis\", \n",
    "                            y = \"concave points_mean\", \n",
    "                            data = df_kreft_ren, \n",
    "                            hue = \"num_diagnosis\", \n",
    "                            legend = False, \n",
    "                            kind = \"box\")\n",
    "\n",
    "#Tilpass konkave punkter boksplott\n",
    "concave_points_box.fig.suptitle(\"Konkave punkter fordelt i godartet og ondartet kreftsvulster\", y = 1.05 )\n",
    "plt.xticks([0,1], labels = xtick_labels_type_kreft)\n",
    "plt.xlabel(\"Kreftsvulst type\")\n",
    "plt.ylabel (\"Konkave punkter\")\n",
    "\n",
    "#Vis konkave punkter boksplott\n",
    "plt.show()\n",
    "plt.clf()\n",
    "\n",
    "\n"
   ]
  },
  {
   "cell_type": "markdown",
   "id": "7e021991-3bf9-4126-9fae-78927d5b21a5",
   "metadata": {},
   "source": [
    "Boksplottet viser at ondartede kreftsvulster har en betydelig høyere median for konkave punkter (0.08) enn godartede (0.02).  I tillegg ser det ut til at selv de mest ekstreme verdiene for godartede kreftsvulster ligger under medianverdien for ondartede svulster.  La oss undersøke dette nærmere for å bekrefte observasjonen."
   ]
  },
  {
   "cell_type": "code",
   "execution_count": null,
   "id": "ba9ae70a-fa3d-4352-bf6f-4690f0e152c4",
   "metadata": {},
   "outputs": [],
   "source": [
    "print(pd.pivot_table(df_kreft_ren,index = \"num_diagnosis\",values = \"concave points_mean\" , aggfunc = [\"mean\",\"median\"]))\n",
    "print(df_kreft_ren[df_kreft_ren[\"num_diagnosis\"] == 0][\"concave points_mean\"].describe())"
   ]
  },
  {
   "cell_type": "markdown",
   "id": "39d70355-addc-4ff2-8066-97ef576519db",
   "metadata": {},
   "source": [
    "Resultatene bekrefter at ondartede kreftsvulster har en høyere median og gjennomsnitt for konkave punkter.  Videre analyse av de 357 godartede svulstene viser at den maksimale verdien for konkave punkter (0.201) er lavere enn medianen (0.08) og gjennomsnittet (0.088) for ondartede svulster. Jeg vil utførske dette videre. Jeg skal visualisere og sammenligne ekstreme verdier for konkave punkter blant godartede kreftsvulster, og sammenligne dem med gjennomsnittlig konkave punkter for ondartede kreftsvulster."
   ]
  },
  {
   "cell_type": "markdown",
   "id": "96a0ca7a-490e-41c8-a2bf-06a236f76be7",
   "metadata": {},
   "source": [
    "#### 5.5.3.1  Utforskning av ekstreme verdier blant godartede og ondartede konkave punkter"
   ]
  },
  {
   "cell_type": "code",
   "execution_count": null,
   "id": "56929f3a-fac7-4ac6-8589-22248587ef9f",
   "metadata": {
    "scrolled": true
   },
   "outputs": [],
   "source": [
    "#Regning av uteliggere\n",
    "concave_points_p75 = df_kreft_ren[df_kreft_ren[\"num_diagnosis\"] == 0][\"concave points_mean\"].quantile(0.75)\n",
    "concave_points_p25 = df_kreft_ren[df_kreft_ren[\"num_diagnosis\"] == 0][\"concave points_mean\"].quantile(0.25)\n",
    "iqr_concave_points = concave_points_p75 - concave_points_p25\n",
    "\n",
    "# Valg av høye ekstreme verdier\n",
    "concave_points_upper = concave_points_p75 + (1.5 * iqr_concave_points)\n",
    "\n",
    "# Validering\n",
    "print(concave_points_upper)\n",
    "concave_points_extreme = df_kreft_ren[(df_kreft_ren[\"concave points_mean\"] >= concave_points_upper) & (df_kreft_ren[\"num_diagnosis\"] == 0)][\"concave points_mean\"]\n",
    "concave_points_extreme.describe()"
   ]
  },
  {
   "cell_type": "raw",
   "id": "b589e54a-5ad4-42a1-8482-deed310dcc59",
   "metadata": {},
   "source": [
    "Alt stemmer"
   ]
  },
  {
   "cell_type": "markdown",
   "id": "911faaad-f0aa-4934-9484-fa50eec61b7c",
   "metadata": {},
   "source": [
    "Visualisering av ekstreme konkave punkter blant godartede kreftsvulster"
   ]
  },
  {
   "cell_type": "code",
   "execution_count": null,
   "id": "11176b5e-1479-4385-b1fa-0823a1f6078f",
   "metadata": {},
   "outputs": [],
   "source": [
    "# Alle kreftsvulstcellekjerne konkave punkter i datasettet\n",
    "plt.scatter(x = df_kreft_ren[\"concave points_mean\"].index, \n",
    "            y = df_kreft_ren[\"concave points_mean\"], \n",
    "            color = \"grey\"\n",
    "            , \n",
    "            alpha = 0.3, \n",
    "            label = \"kreftsvulstcellekjerne konkave punkter\")\n",
    "\n",
    "\n",
    "# Uteliggere blant godartede kreftsvulster som skal vises i rød farge\n",
    "plt.scatter(x = concave_points_extreme.index, \n",
    "            y = concave_points_extreme, \n",
    "            color = \"red\",edgecolor = \"black\", \n",
    "            label = \"uteliggere blant godartede kreftsvulster > 0.0587\",\n",
    "            s = 50)\n",
    "\n",
    "# Tilføying av linje som indikerer gjennomsnittlig cellekjerne konkave punkter i ondartete kreftsvulst\n",
    "plt.axhline(y = 0.087990 ,\n",
    "            linestyle = \"--\", \n",
    "            color = \"blue\", \n",
    "            label = \"gjennomsnittlig antall konkave punkter i ondartette kreftsvulster\")\n",
    "\n",
    "#Justering utseende av scatter\n",
    "plt.legend()\n",
    "current_min, current_max = plt.ylim()\n",
    "plt.ylim(current_min, current_max * 1.25)\n",
    "plt.xlabel(\"Observasjonsindeks\")\n",
    "plt.ylabel(\"gjennomsnittig antall konkave punkter\")\n",
    "plt.show()\n"
   ]
  },
  {
   "cell_type": "markdown",
   "id": "9d7b31e4-1369-47b8-ba0b-468b795b9a35",
   "metadata": {},
   "source": [
    "Scatterplotet viser tydelig at alle de observerte godartede kreftsvulstene hadde mindre gjennomsnittig antall konkave punkter enn det gjennomsnittlige antallet konkave punkter konkave punkter som ble observert i de ondartede kreftsvulstene. Denne observasjonen indikerer sannsynligvis sterk korelasjon mellom gjennomsnittig antall konkave punkter i cellekjernen og typen kreftsvulst(godartet eller ondartet)."
   ]
  },
  {
   "cell_type": "markdown",
   "id": "38a2ff93-052e-4cbe-baf8-2aef266cf11d",
   "metadata": {},
   "source": [
    "Konkave pukter søylediagram"
   ]
  },
  {
   "cell_type": "code",
   "execution_count": null,
   "id": "ae8b6663-26d6-4c68-9dbe-6f8bc9f71767",
   "metadata": {
    "scrolled": true
   },
   "outputs": [],
   "source": [
    "concave_points_bar = sns.catplot(x = \"num_diagnosis\", \n",
    "                                 y = \"concave points_mean\", \n",
    "                                 data = df_kreft_ren, \n",
    "                                 hue = \"num_diagnosis\",\n",
    "                                 legend = False,\n",
    "                                 kind = \"bar\")\n",
    "\n",
    "#Tilpass #konkave pukter søylediagram\n",
    "concave_points_bar.figure.suptitle(\"Konkave punkter fordelt i godartet og ondartet kreftsvulster\", y = 1.06)\n",
    "plt.xticks([0,1], labels = xtick_labels_type_kreft)\n",
    "plt.xlabel(\"Kreftsvulst type\")\n",
    "plt.ylabel(\"Konkave punkter\")"
   ]
  },
  {
   "cell_type": "markdown",
   "id": "31db7b06-cf79-4d83-82a8-086d7079a546",
   "metadata": {},
   "source": [
    "Søylediagrammet viser en stor forskjell i gjennomsnittlig antall konkave punkter mellom godartede (0.025) og ondartede (0.087) kreftsvulster. Dette bekrefter forrige analyse av uteliggere og kan indikere sterk korelasjon mellom gjennomsnittig antall konkave punkter i cellekjernen og typen kreftsvulst(godartet eller ondartet)."
   ]
  },
  {
   "cell_type": "markdown",
   "id": "903ec699-ad01-4d97-8f48-18bbf27d21ad",
   "metadata": {},
   "source": [
    "## 5.6 Visualisering og analyse av kreftsvulsters teksturegenskaper"
   ]
  },
  {
   "cell_type": "markdown",
   "id": "f79401a2-95d2-43ba-a9f7-57116f645977",
   "metadata": {},
   "source": [
    "\n",
    "I forrige del visualiserte jeg cellekjerners størrelsesvariabler og overflatteegenskaper. I denne delen skal jeg fokusere på teksturegenskaper (tekstur, symmetri, kompakthetsindeks, og grenseflatekompleksitet).\n",
    "I denne delen skal jeg visualisere uteliggere og undersøke teksturegenskaper (tekstur, symmetri, kompakthetsindeks, og grenseflatekompleksitet) nærmere, med fokus på deres fordeling, gjennomsnitt, median, kvartiler og ekstremverdier.\n",
    "I tillegg skal jeg visualisere konfidensintervaller og gjennomsnittlige verdier for variablene ved hjelp av søylediagrammer."
   ]
  },
  {
   "cell_type": "markdown",
   "id": "9a4506e7-337e-46f5-bebc-c9c4bbbfb1c7",
   "metadata": {},
   "source": [
    "Justering av stil og farge for steksturvariabler"
   ]
  },
  {
   "cell_type": "code",
   "execution_count": null,
   "id": "0e6e617b-d6d6-421a-8fd9-852e129b4309",
   "metadata": {},
   "outputs": [],
   "source": [
    "sns.set_style(\"whitegrid\")\n",
    "sns.set_palette(\"RdBu_r\")"
   ]
  },
  {
   "cell_type": "markdown",
   "id": "84c008d3-34f2-48e4-ab77-10ed242a9bc1",
   "metadata": {},
   "source": [
    "#### 5.6.1 Visualisering av tekstur\n"
   ]
  },
  {
   "cell_type": "markdown",
   "id": "c2c318be-33d8-4873-97a5-8da9b6bad244",
   "metadata": {},
   "source": [
    "Tekstur boksplott"
   ]
  },
  {
   "cell_type": "code",
   "execution_count": null,
   "id": "363f0013-3d34-4081-9d84-7606232b264f",
   "metadata": {},
   "outputs": [],
   "source": [
    "texture_box = sns.catplot(x = \"num_diagnosis\",\n",
    "                 y = \"texture_mean\", \n",
    "                 data = df_kreft_ren, \n",
    "                 hue = \"num_diagnosis\", \n",
    "                 legend = False,\n",
    "                 kind = \"box\")\n",
    "\n",
    "#Tilpass tekstur boksplott\n",
    "texture_box.figure.suptitle(\"Tekstur av kreftsulster\", y = 1.1)\n",
    "plt.xticks([0,1], labels = xtick_labels_type_kreft)\n",
    "plt.xlabel(\"Kreftsvulst type\")\n",
    "plt.ylabel(\"Tekstur\")\n",
    "\n",
    "#Vis boksplott\n",
    "plt.show()\n",
    "plt.clf()"
   ]
  },
  {
   "cell_type": "markdown",
   "id": "58148670-998a-46b5-b03c-79a9e4b6e8d8",
   "metadata": {},
   "source": [
    "Boksplottet viser at godartede kreftsvulster har en lavere median i tekstur enn ondartede. Jeg ser også at godartede svulster har mange ekstreme verdier. Jeg skal se litt nærmere på hvor mange det er."
   ]
  },
  {
   "cell_type": "markdown",
   "id": "e3f442bf-0a23-4e5d-9178-215fef4dc413",
   "metadata": {},
   "source": [
    "##### 5.6.1.1 Undersøkelse av tekstur- uteliggere"
   ]
  },
  {
   "cell_type": "code",
   "execution_count": null,
   "id": "4ed8eb63-204c-44b2-9327-bdb8685a714d",
   "metadata": {},
   "outputs": [],
   "source": [
    "#Regning av uteliggere\n",
    "texture_p75 = df_kreft_ren[df_kreft_ren[\"num_diagnosis\"] == 0][\"texture_mean\"].quantile(0.75)\n",
    "texture_p25 = df_kreft_ren[df_kreft_ren[\"num_diagnosis\"] == 0][\"texture_mean\"].quantile(0.25)\n",
    "texture_iqr = texture_p75 - texture_p25\n",
    "texture_upper = texture_p75  + (1.5 * texture_iqr)\n",
    "print(texture_upper.round(4))\n",
    "\n",
    "#Valg av høye ekstreme verdier\n",
    "texture_outliers = df_kreft_ren.loc[(df_kreft_ren[\"texture_mean\"] > texture_upper) & (df_kreft_ren[\"num_diagnosis\"] == 0)][\"texture_mean\"]\n",
    "\n",
    "#Validering\n",
    "print(len(texture_outliers), texture_upper)\n",
    "texture_outliers.describe()\n",
    "\n"
   ]
  },
  {
   "cell_type": "markdown",
   "id": "8b42d1b9-af5c-4efe-a06f-03ca94aede95",
   "metadata": {},
   "source": [
    "Alt stemmer"
   ]
  },
  {
   "cell_type": "markdown",
   "id": "7560bfee-7d7a-48bc-b3f6-77a055e76a01",
   "metadata": {},
   "source": [
    "Visual validasjon av utteliggere"
   ]
  },
  {
   "cell_type": "code",
   "execution_count": null,
   "id": "1f5cebbf-d2eb-4962-ae3d-8924f8c0c3ba",
   "metadata": {},
   "outputs": [],
   "source": [
    "# vusualisering av tekstur\n",
    "plt.scatter( x = df_kreft_ren.index, \n",
    "            y = df_kreft_ren[\"texture_mean\"],\n",
    "            color = \"blue\", \n",
    "            alpha = 0.3, label = \"Tekstur alle kreftsvulster\")\n",
    "\n",
    "#visualisering av uteliggere\n",
    "plt.scatter(x = texture_outliers.index, \n",
    "            y = texture_outliers , \n",
    "            color = \"red\",\n",
    "           label = \"tekstur uteliggere blant godartete kreftsvulster\")\n",
    "\n",
    "#Tilføying av linje som definerer nedre grense for tekstur-uteliggere blant godartede kreftsvulster\n",
    "plt.axhline(y = texture_upper, \n",
    "            color = \"black\", \n",
    "            linestyle = \"--\",\n",
    "            label =\"laveste grense til tekstur uteliggere blant godartete kreftsvulster\")\n",
    "\n",
    "#Justering av utseende\n",
    "current_min, current_max = plt.ylim()\n",
    "plt.ylim(current_min, current_max * 1.25)\n",
    "plt.xlabel(\"Observasjonsindeks\")\n",
    "plt.ylabel(\"Tekstur gjennomsnitt\")\n",
    "plt.legend()\n",
    "\n",
    "#Vis scatterplott\n",
    "plt.show()\n"
   ]
  },
  {
   "cell_type": "markdown",
   "id": "512311db-bc5d-4a43-900d-98e0e6ec83ed",
   "metadata": {},
   "source": [
    "Scatterplott bekrefter at de fleste av utteliggere(markert rødt) er konsentrert mellom 25 og 30, og det er bare to uteliggere som ligger mellom 30-35, noe som stemmer med uteliggerne som ble visst i boksplottet "
   ]
  },
  {
   "cell_type": "markdown",
   "id": "d0d3df97-6ecd-4a88-81b9-8c5962b8b304",
   "metadata": {},
   "source": [
    "#### 5.6.2 Visualisering av uteliggere, median og kvartiler for cellekjerners symmetri fordelt mellom ondartede og godartede kreftsvulster"
   ]
  },
  {
   "cell_type": "markdown",
   "id": "9d86def5-fcd2-4ab1-8f7f-718d2d6bc275",
   "metadata": {},
   "source": [
    " Symmetriboxplot"
   ]
  },
  {
   "cell_type": "code",
   "execution_count": null,
   "id": "70358878-bed3-4326-8f3e-20a21918f44b",
   "metadata": {},
   "outputs": [],
   "source": [
    "symmetry_box = sns.catplot(x = \"num_diagnosis\",\n",
    "                 y = \"symmetry_mean\", \n",
    "                 data = df_kreft_ren, \n",
    "                 hue = \"num_diagnosis\", \n",
    "                 legend = False,\n",
    "                 kind = \"box\")\n",
    "\n",
    "#Tilpass simmetri boksplott\n",
    "symmetry_box.figure.suptitle(\"symmetriindeks til  kreftsulster\", y = 1.1)\n",
    "plt.xticks([0,1], labels = xtick_labels_type_kreft)\n",
    "plt.xlabel(\"Kreftsvulst type\")\n",
    "plt.ylabel(\"Symmetriindex\")\n",
    "\n",
    "#Vis boksplott\n",
    "plt.show()\n",
    "plt.clf()"
   ]
  },
  {
   "cell_type": "markdown",
   "id": "cfc15abb-2b9d-41f1-ae26-4f1c8e5166fc",
   "metadata": {},
   "source": [
    "Gjennomsnittlig og median symmetriindeks for cellekjerner fordelt mellom godartede og ondartede kreftsvulster:"
   ]
  },
  {
   "cell_type": "code",
   "execution_count": null,
   "id": "e24f4852-44d9-4c47-ab78-9f133b91e908",
   "metadata": {},
   "outputs": [],
   "source": [
    "duckdb.query(\"\"\"\n",
    "SELECT AVG(symmetry_mean) AS average_symmetry, \n",
    "       MEDIAN(symmetry_mean)  AS median_symmetry\n",
    "       FROM df_kreft_ren \n",
    "       GROUP BY num_diagnosis;\"\"\").to_df()"
   ]
  },
  {
   "cell_type": "markdown",
   "id": "c7ae00a1-49ea-4122-9efa-cd8c722459b0",
   "metadata": {},
   "source": [
    "Boksplottet og tabellen viser at det ondartede kreftsvulster(0.19) har en tendens til å ha høyere median symmetriindeks enn godartede kreftsvulster (0.17)."
   ]
  },
  {
   "cell_type": "code",
   "execution_count": null,
   "id": "e0119eeb-9441-4330-9da4-59e73ccd7bd1",
   "metadata": {},
   "outputs": [],
   "source": [
    "#Symmetri søylediagram\n",
    "symmetry_bar = sns.catplot(x = \"num_diagnosis\",\n",
    "                 y = \"symmetry_mean\", \n",
    "                 data = df_kreft_ren, \n",
    "                 hue = \"num_diagnosis\", \n",
    "                 legend = False,\n",
    "                 kind = \"bar\")\n",
    "\n",
    "\n",
    "#Tiplass symmetri søylediagram\n",
    "symmetry_bar.figure.suptitle(\"Symmetriindeks for kreftsvulster\", y = 1.05)\n",
    "plt.xticks([0, 1], labels = xtick_labels_type_kreft)\n",
    "plt.xlabel(\"Kreftsvulst type\")\n",
    "plt.ylabel(\"Simmetriindex\")\n",
    "\n",
    "#Vis søylediagram\n",
    "plt.show()\n",
    "plt.clf()\n"
   ]
  },
  {
   "cell_type": "markdown",
   "id": "08593289-df8b-4ed3-a7ea-61f6c4295fd2",
   "metadata": {},
   "source": [
    "Konfidens intervallene i søylediagrammet indikerer at det er en forskjell i gjennomsnittlig symmetriindeks mellom godartede(gjennomsnitt på ca. 0.17) og ondartede(gjennomsnitt på ca.0.19) kreftsvulster."
   ]
  },
  {
   "cell_type": "markdown",
   "id": "fccb398b-3792-4b29-bdd2-438395255ffc",
   "metadata": {},
   "source": [
    "5.6.3 Visualisering av uteliggere, median og kvartiler for cellekjerners kompakthet fordelt mellom ondartede og godartede kreftsvulster"
   ]
  },
  {
   "cell_type": "markdown",
   "id": "aaac7dad-0f7f-4959-adaf-2c156f6b3c70",
   "metadata": {},
   "source": [
    "Kompakthet boksplott"
   ]
  },
  {
   "cell_type": "code",
   "execution_count": null,
   "id": "608053c4-bb8e-441e-8c87-562124d56cab",
   "metadata": {},
   "outputs": [],
   "source": [
    "compactness_box = sns.catplot(x = \"num_diagnosis\",\n",
    "                 y = \"compactness_mean\", \n",
    "                 data = df_kreft_ren, \n",
    "                 hue = \"num_diagnosis\", \n",
    "                 legend = False,\n",
    "                 kind = \"box\")\n",
    "\n",
    "#Tilpass kompakthet boksplott\n",
    "compactness_box.figure.suptitle(\"Kompakthet til  kreftsulster\", y = 1.1)\n",
    "plt.xticks([0,1], labels = xtick_labels_type_kreft)\n",
    "plt.xlabel(\"Kreftsvulst type\")\n",
    "plt.ylabel(\"Kompakthetsindeks (perimeter²/area - 1)\")\n",
    "\n",
    "#Vis kompakthet boksplott\n",
    "plt.show()\n",
    "plt.clf()"
   ]
  },
  {
   "cell_type": "markdown",
   "id": "d529cabf-7116-4e73-8d08-4f4e8f115bfe",
   "metadata": {},
   "source": [
    "Gjennomsnittlig og median symmetriindeks for cellekjerner fordelt mellom godartede og ondartede kreftsvulster:"
   ]
  },
  {
   "cell_type": "code",
   "execution_count": null,
   "id": "746995c1-b6d3-4146-8c82-e4c203cab5ab",
   "metadata": {},
   "outputs": [],
   "source": [
    "print(df_kreft_ren[\"compactness_mean\"].groupby(df_kreft_ren[\"num_diagnosis\"]).agg([\"mean\", \"median\"]))"
   ]
  },
  {
   "cell_type": "markdown",
   "id": "97bd711a-3712-4366-bb00-6d8179acb0b3",
   "metadata": {},
   "source": [
    "Boksplottet og tabellen viser at ondartede kreftsvulster(0.13) har en tendens til å ha høyere median  kompakthet enn godartede kreftsvulster (0.07). Ondartede og godartede kreftsvulster er også  forskjellige i ekstreme verdier av kompaktheten. For eksempel har godartede kreftsvulster mye lavere ekstreme verdier i kompakthet enn ondartede kreftsvulster."
   ]
  },
  {
   "cell_type": "markdown",
   "id": "649e88ea-5922-4bb4-ab17-29086207a402",
   "metadata": {},
   "source": [
    "Kompakthet søylediagram"
   ]
  },
  {
   "cell_type": "code",
   "execution_count": null,
   "id": "e55057ff-5071-41a2-9fb7-ea2a8b019106",
   "metadata": {},
   "outputs": [],
   "source": [
    "compactness_bar = sns.catplot(x = \"num_diagnosis\",\n",
    "                 y = \"compactness_mean\", \n",
    "                 data = df_kreft_ren, \n",
    "                 hue = \"num_diagnosis\", \n",
    "                 legend = False,\n",
    "                 kind = \"bar\")\n",
    "\n",
    "\n",
    "#Tiplass kompakthet søylediagram\n",
    "compactness_bar.figure.suptitle(\"Kompakthet til kreftsvulster\", y = 1.05)\n",
    "plt.xticks([0, 1], labels = xtick_labels_type_kreft)\n",
    "plt.xlabel(\"Kreftsvulst type\")\n",
    "plt.ylabel(\"Kompakthetsindeks (perimeter²/area - 1)\")\n",
    "\n",
    "#Vis søylediagram\n",
    "plt.show()\n",
    "plt.clf()\n"
   ]
  },
  {
   "cell_type": "markdown",
   "id": "4f1bbe11-60f0-4a38-a22b-f6e2e0a4a78e",
   "metadata": {},
   "source": [
    "Konfidens intervallene i søylediagrammet indikerer at det er en forskjell i gjennomsnittlig kompakthetsindeks mellom godartede(gjennomsnitt på ca. 0.8) og ondartede(gjennomsnitt på ca.0.15) kreftsvulster"
   ]
  },
  {
   "cell_type": "markdown",
   "id": "21c51938-afc8-4de9-a1da-9fbe76165690",
   "metadata": {},
   "source": [
    "5.6.4 Visualisering av uteliggere, median og kvartiler for cellekjerners fraktal dimensjon fordelt mellom ondartede og godartede kreftsvulster"
   ]
  },
  {
   "cell_type": "markdown",
   "id": "e6cdd0be-7ded-4a86-bc15-43fede95c12f",
   "metadata": {},
   "source": [
    "Fraktal dimensjon boksplott"
   ]
  },
  {
   "cell_type": "code",
   "execution_count": null,
   "id": "e4f4bea1-24c4-4323-b87f-1735d887d463",
   "metadata": {},
   "outputs": [],
   "source": [
    "fractal_box = sns.catplot(x = \"num_diagnosis\",\n",
    "                 y = \"fractal_dimension_mean\", \n",
    "                 data = df_kreft_ren, \n",
    "                 hue = \"num_diagnosis\", \n",
    "                 legend = False,\n",
    "                 kind = \"box\")\n",
    "\n",
    "#Tilpass fraktal dimensjon boksplott\n",
    "fractal_box.figure.suptitle(\"Fraktal dimensjon til kreftsulster\", y = 1.1)\n",
    "plt.xticks([0,1], labels = xtick_labels_type_kreft)\n",
    "plt.xlabel(\"Kreftsvulst type\")\n",
    "plt.ylabel(\"Fraktal dimensjon (Grenseflatekompleksitet)\")\n",
    "\n",
    "#Vis grenseflatekompleksitet boksplott\n",
    "plt.show()\n",
    "plt.clf()\n",
    "\n",
    "\n",
    "\n"
   ]
  },
  {
   "cell_type": "markdown",
   "id": "a533e919-5c4f-4fb2-ac97-9e6c18665b13",
   "metadata": {},
   "source": [
    "Gjennomsnittlig og median fraktal dimensjon for cellekjerner fordelt mellom godartede og ondartede kreftsvulster:"
   ]
  },
  {
   "cell_type": "code",
   "execution_count": null,
   "id": "bc442fe5-2ff5-4f1b-9b87-23264ac413bf",
   "metadata": {},
   "outputs": [],
   "source": [
    "print(pd.pivot_table(df_kreft_ren,index = \"num_diagnosis\",values = \"fractal_dimension_mean\" , aggfunc = [\"mean\",\"median\"]))\n",
    "print(df_kreft_ren[df_kreft_ren[\"num_diagnosis\"] == 0][\"fractal_dimension_mean\"].describe())"
   ]
  },
  {
   "cell_type": "markdown",
   "id": "399e18e4-d24b-4d4b-987c-28e2b46cf653",
   "metadata": {},
   "source": [
    "Boksplottet viser betydelig variasjon i ekstreme verdier blant godartede kreftsvulster. Jeg forventer en svært lav korrelasjon mellom kreftsvulsttype og fraktal dimensjon. Medianen for fraktal dimensjon er omtrent 0.061 for både ondartede og godartede kreftsvulster."
   ]
  },
  {
   "cell_type": "code",
   "execution_count": null,
   "id": "b0d6d386-fd1d-442f-81e1-c2ef40bbecdc",
   "metadata": {},
   "outputs": [],
   "source": [
    "# Fraktal dimensjon søylediagram\n",
    "fractal_bar = sns.catplot(x = \"num_diagnosis\",\n",
    "                 y = \"fractal_dimension_mean\", \n",
    "                 data = df_kreft_ren, \n",
    "                 hue = \"num_diagnosis\", \n",
    "                 legend = False,\n",
    "                 kind = \"bar\")\n",
    "\n",
    "\n",
    "# Tilpass fraktal dimensjon søylediagram\n",
    "fractal_bar.figure.suptitle(\"Fraktal dimensjon til kreftsvulster\", y = 1.05,)\n",
    "plt.xticks([0, 1], labels = xtick_labels_type_kreft)\n",
    "plt.xlabel(\"Kreftsvulst type\")\n",
    "plt.ylabel(\"Fraktal dimensjon\")\n",
    "plt.axhline(y = 0.062680, linestyle = \"--\", color = \"red\", label = \"gjennomsnittlig fraktal dimensjon for ondartede kreftsvulster\")\n",
    "plt.legend()\n",
    "\n",
    "#Vis søylediagram\n",
    "\n",
    "plt.show()\n",
    "plt.clf()\n"
   ]
  },
  {
   "cell_type": "markdown",
   "id": "98076978-4ab7-4200-84a5-9ba42d296621",
   "metadata": {},
   "source": [
    "EDA viste at det er flere variabler, for eksempel størrelsesvariabler, som har en svært høy korrelasjon med kreftsvulsttype, mens noen variabler, for eksempel fraktal dimensjon, ikke har mye å si når det gjelder kreftsvulsttype. Jeg skal se nærmere på multikollinearitet, og jeg skal utføre en hypotesetest for å bekrefte lineær korrelasjon.Søylediagrammet viser at det ikke er noen signifikant forskjell i gjennomsnittig fraktal dimensjon  godartede og ondartede kreftsvulster."
   ]
  },
  {
   "cell_type": "markdown",
   "id": "9eae020b-83b0-4119-9225-87412e444556",
   "metadata": {},
   "source": [
    "# 6 Varmekart"
   ]
  },
  {
   "cell_type": "markdown",
   "id": "dc920bb1-d7d2-4900-b007-a2ddcfe0a032",
   "metadata": {},
   "source": [
    "Jeg undersøke multikollinearitet slik at vi kan forberede datasettet til maskinlæringstrening og utvikle en logistisk modell."
   ]
  },
  {
   "cell_type": "code",
   "execution_count": null,
   "id": "04252fde-7de0-4ecb-98c4-64d52f7fd8e7",
   "metadata": {},
   "outputs": [],
   "source": [
    "sns.heatmap(df_kreft_ren.corr(), annot = True)"
   ]
  },
  {
   "cell_type": "code",
   "execution_count": null,
   "id": "ba14b1e0-a235-4148-82d3-e7f0cd73976a",
   "metadata": {},
   "outputs": [],
   "source": []
  },
  {
   "cell_type": "markdown",
   "id": "9fc055e5-2a3d-4cd1-9ee3-b07d7658c9b8",
   "metadata": {},
   "source": [
    "Varmekartet viser at størrelsesvariablene radius, tekstur og perimeter har perfekt eller nesten perfekt korrelasjon, og jeg trenger enten å slå dem sammen og bruke dem som én prediktorvariabel, eller bare droppe dem. Konkave punkter har også en svært sterk korrelasjon med nesten alle de utvalgte variablene i datasettet. Jeg skal slå dem sammen med glatthet og konkavitet. Til slutt skal jeg slå sammen variablene tekstur, symmetri og kompakthetsindeks, og kalle blandingen teksturegenskaper. Fraktal dimensjon blir fjernet fra analysen siden den har svært liten korrelasjon med krefttypen."
   ]
  },
  {
   "cell_type": "markdown",
   "id": "f87a9148-4f70-4d6a-9a3d-3dc3eebd8eaf",
   "metadata": {},
   "source": [
    "Før jeg begynner med sammenslåingen av variabler, må jeg dele datasettet i et treningsdatasett og et testdatasett. Treningsdatasettet vil bestå av 70 % av dataene, og testdatasettet vil bestå av 30 % av dataene."
   ]
  },
  {
   "cell_type": "markdown",
   "id": "cda34e2f-0457-47fc-88f6-6e0f49805777",
   "metadata": {},
   "source": [
    "# 7 Omkoding og forberedelse av datasettet til prediksjonsmodell."
   ]
  },
  {
   "cell_type": "markdown",
   "id": "aa2575d0-6c8e-4e29-b384-69101bda72bc",
   "metadata": {},
   "source": [
    "#### 7.1 Segmenter datasettet i uavhengige variabler (X)"
   ]
  },
  {
   "cell_type": "code",
   "execution_count": null,
   "id": "b175c8bb-b20e-4bb1-8f72-a970f95cdbb1",
   "metadata": {},
   "outputs": [],
   "source": [
    "# Skriver ut navnene på kolonnene\n",
    "print(df_kreft_ren.columns)\n",
    "# Segmenter datasettet i uavhengige variabler (X)\n",
    "df_kreft_ren_x = df_kreft_ren.loc[:, \"radius_mean\" : \"symmetry_mean\" ].copy()\n",
    "df_kreft_ren_x.drop([\"perimeter_mean\", 'area_mean'], axis = 1)\n",
    "#Validering\n",
    "print(df_kreft_ren_x.columns)\n",
    "print(df_kreft_ren_x.shape)\n",
    "print(df_kreft_ren_x.head())"
   ]
  },
  {
   "cell_type": "markdown",
   "id": "6db9e263-bc30-4440-a631-128eacd54b79",
   "metadata": {},
   "source": [
    "#### 7.2 Segment dataset i uavhengig variabel y vatiables(Y)"
   ]
  },
  {
   "cell_type": "code",
   "execution_count": null,
   "id": "3ce1caa1-cb0c-4b0c-9a08-08a9b4b67d2f",
   "metadata": {},
   "outputs": [],
   "source": [
    "df_kreft_ren_y = df_kreft_ren[['num_diagnosis']]\n",
    "\n",
    "#Validering\n",
    "type(df_kreft_ren_y)\n",
    "print(df_kreft_ren_y.shape, df_kreft_ren_y.value_counts())\n",
    "print(df_kreft_ren_y.head(10))"
   ]
  },
  {
   "cell_type": "markdown",
   "id": "e5d73837-5960-48ee-945a-ca57654b93fe",
   "metadata": {},
   "source": [
    "Alt stemmer"
   ]
  },
  {
   "cell_type": "markdown",
   "id": "32ce898c-6f66-40c8-bc83-89f6bd94a307",
   "metadata": {},
   "source": [
    "#### 7.3 Del datasettet i trenings- og testsett for features og targets"
   ]
  },
  {
   "cell_type": "code",
   "execution_count": null,
   "id": "044e2f84-def3-484b-b330-46ebfa874752",
   "metadata": {},
   "outputs": [],
   "source": [
    "#Del dataset i trening og testing features and targets\n",
    "df_kreft_ren_x_train, df_kreft_ren_x_test, df_kreft_ren_y_train, df_kreft_ren_y_test = train_test_split(df_kreft_ren_x, df_kreft_ren_y, train_size = 0.7, test_size = 0.3, random_state=42)\n",
    "#Validering\n",
    "print(df_kreft_ren_x_train.shape)\n",
    "print(df_kreft_ren_y_train.shape)\n",
    "print(df_kreft_ren_x_test.shape)\n",
    "print(df_kreft_ren_y_test.shape)"
   ]
  },
  {
   "cell_type": "markdown",
   "id": "37c04aa2-7df8-443e-90f9-819230c9e0a6",
   "metadata": {},
   "source": [
    "#### 7.4. Omkoding av størrelsevariabler\n"
   ]
  },
  {
   "cell_type": "markdown",
   "id": "0aab7900-f410-4c01-9590-82265af260b8",
   "metadata": {},
   "source": [
    "I regresjonen skal jeg kun beholde radiusvariabelen. Grunnen til det er nesten perfekt korrelasjonen (0.99+) mellom radius, areal og omkrets. I tillegg har disse tre ganske høy korrelasjon med variabelen for konkave punkter Utvalget av radius representerer det beste kompromisset mellom korrelasjonen med utfallsvariabelen (0.73) og kollineariteten med konkave punkter (0.82)."
   ]
  },
  {
   "cell_type": "markdown",
   "id": "d1a436d4-fab7-4398-9108-f79f07faa1c0",
   "metadata": {},
   "source": [
    "#### 7.4.1 Estimering av diagnostisk terskel for Radius "
   ]
  },
  {
   "cell_type": "markdown",
   "id": "d4ff1d98-347a-4301-b09d-59b53f812d1a",
   "metadata": {},
   "source": [
    "\n",
    "Bruk av ROC og AUC for å undersøke radius diagnostisk grenseverdi for ondartede og godartede kreftsvulster."
   ]
  },
  {
   "cell_type": "code",
   "execution_count": null,
   "id": "aeab9939-9eeb-4289-8983-2faea547d034",
   "metadata": {},
   "outputs": [],
   "source": [
    "\n",
    "#Tilordne feature- og target-kolonner\n",
    "\n",
    "#Regning av ROC-kurv og AUC\n",
    "fpr,tpr,thresholds = roc_curve(df_kreft_ren_y_train[\"num_diagnosis\"], df_kreft_ren_x_train[\"radius_mean\"])\n",
    "roc_auc = auc(fpr,tpr)\n",
    "\n",
    "#Optimum grenseverdi\n",
    "j_scores = tpr - fpr\n",
    "optimal_idx = np.argmax(j_scores)\n",
    "optimal_benchmark_radius = thresholds[optimal_idx]\n",
    "print(\"Optimum grense for radius er\", optimal_benchmark_radius)\n",
    "\n",
    "#ROC kurv\n",
    "plt.figure(figsize=(10, 8))\n",
    "plt.plot(fpr, tpr, color='blue', lw=2, label=f'ROC kurv (AUC = {roc_auc:.2f})')\n",
    "plt.plot([0, 1], [0, 1], color='gray', linestyle='--', label='Random classifier')\n",
    "plt.scatter(fpr[optimal_idx], tpr[optimal_idx], color='red',s = 100, label=f'Optimum grenseverdi for radius = {optimal_benchmark_radius:.2f}')\n",
    "plt.xlabel('False Positive Rate')\n",
    "plt.ylabel('True Positive Rate (Sensitivity)')\n",
    "plt.title(f'ROC Curve for {df_kreft_ren_x_train[\"radius_mean\"]}')\n",
    "plt.legend(loc='lower right')\n",
    "plt.grid(True)\n",
    "plt.tight_layout()\n",
    "plt.show()\n"
   ]
  },
  {
   "cell_type": "markdown",
   "id": "7ae3ac33-330a-4a27-be62-416c35d2204e",
   "metadata": {},
   "source": [
    " AUC = 94 som betyr at hvis vi setter binar grense på 14.25, skal algorytmen forutsi 94 % av kreftsvulster riktig.\n",
    " df_kreft_ren_x_train[\"radius_mean\"]\n",
    " \n"
   ]
  },
  {
   "cell_type": "markdown",
   "id": "52e0c108-6525-44ce-aa43-bde7a127184a",
   "metadata": {},
   "source": [
    "#### 7.4.2 Omkoding av radius"
   ]
  },
  {
   "cell_type": "code",
   "execution_count": null,
   "id": "92ce62d9-d6f1-43ad-88fe-8445db283dec",
   "metadata": {},
   "outputs": [],
   "source": [
    "df_kreft_ren_x_train[\"radius_regression\"] = df_kreft_ren_x_train[\"radius_mean\"] > optimal_benchmark_radius\n",
    "#Validering\n",
    "print(df_kreft_ren_x_train[[\"radius_regression\", \"radius_mean\"]].head())\n",
    "df_kreft_ren_x_train[\"radius_regression\"].describe()"
   ]
  },
  {
   "cell_type": "markdown",
   "id": "944b51d0-7b70-470c-9978-cc013e3bf4bd",
   "metadata": {},
   "source": [
    "Omkoding vellykket"
   ]
  },
  {
   "cell_type": "markdown",
   "id": "2c4fe7c7-1c43-4dc3-9c04-f0fe48729306",
   "metadata": {},
   "source": [
    "## 7.5 Omkoding av overflateegenskaper"
   ]
  },
  {
   "cell_type": "markdown",
   "id": "157fa026-38d5-49a6-ade6-6679df89b946",
   "metadata": {},
   "source": [
    "#### 7.5.1 Estimering av diagnostisk terskel for Radius "
   ]
  },
  {
   "cell_type": "markdown",
   "id": "549e09c5-5682-4531-83ad-ebeba04eec9c",
   "metadata": {},
   "source": [
    " Bruk av ROC og AUC for å undersøke diagnostisk grenseverdi for ondartede og godartede kreftsvulster. til alle variablene i overflateegenskaper"
   ]
  },
  {
   "cell_type": "code",
   "execution_count": null,
   "id": "eabbbc47-8b8d-43f4-b0f9-b9d21d161e3a",
   "metadata": {},
   "outputs": [],
   "source": [
    "#Beregning av ROC-kurve og AUC for glatthet\n",
    "fpr1,tpr1,thresholds1 = roc_curve(df_kreft_ren_y_train[\"num_diagnosis\"], df_kreft_ren_x_train[\"smoothness_mean\"])\n",
    "roc_auc1 = auc(fpr1, tpr1)\n",
    "\n",
    "#Beregning av ROC-kurve og AUC for konkavitet\n",
    "fpr2,tpr2,thresholds2 =  roc_curve(df_kreft_ren_y_train[\"num_diagnosis\"], df_kreft_ren_x_train[\"concavity_mean\"])\n",
    "roc_auc2 = auc(fpr2, tpr2)\n",
    "\n",
    "#Regning av ROC-kurve og AUC for konkave punkter\n",
    "fpr3,tpr3,thresholds3 = roc_curve(df_kreft_ren_y_train[\"num_diagnosis\"], df_kreft_ren_x_train[\"concave points_mean\"])\n",
    "roc_auc3 = auc(fpr3, tpr3)\n",
    "\n",
    "\n",
    "#Optimum grenseverdier\n",
    "#kalkulerer j-scores for hver av variabler\n",
    "j_scores1 = tpr1 - fpr1\n",
    "j_scores2 = tpr2 - fpr2\n",
    "j_scores3 = tpr3 - fpr3\n",
    "#Finner indeksen til den optimale J-scoren for hver variabel\n",
    "optimal_idx1 = np.argmax(j_scores1)\n",
    "optimal_idx2 = np.argmax(j_scores2)\n",
    "optimal_idx3 = np.argmax(j_scores3)\n",
    "\n",
    "#Optimale terskelverdier for  variabler\n",
    "optimal_benchmark_smoothness = thresholds1[optimal_idx1]\n",
    "optimal_benchmark_concavity = thresholds2[optimal_idx2]\n",
    "optimal_benchmark_concave_points = thresholds3[optimal_idx3]\n",
    "print(\"Optimum grense for glatthet er\", optimal_benchmark_smoothness)\n",
    "print(\"Optimum grense for konkavitet er\", optimal_benchmark_concavity)\n",
    "print(\"Optimum grense for konkave punkter er\", optimal_benchmark_concave_points)\n",
    "\n",
    "#ROC curve\n",
    "plt.figure(figsize=(8, 6))\n",
    "#ROC og optimal terskel for glatthet \n",
    "plt.plot(fpr1, tpr1, color='blue', lw=2, label=f'Glatthet (AUC = {roc_auc1:.2f})')\n",
    "plt.scatter(fpr1[optimal_idx1], tpr1[optimal_idx1], color='blue',s = 100, label=f'Optimal terskel for glatthet = {optimal_benchmark_smoothness:.2f}')\n",
    "#ROC og optimal terskel konkavitet\n",
    "plt.plot(fpr2, tpr2, color='red', lw=2, label=f'Konkavitet (AUC = {roc_auc2:.2f})')\n",
    "plt.scatter(fpr2[optimal_idx2], tpr2[optimal_idx2], color=\"red\",s = 100, label=f'Optimal terskel for konkavitet = {optimal_benchmark_concavity:.2f}')\n",
    "#ROC og optimal terskel konkave punkter\n",
    "plt.plot(fpr3, tpr3, color='green', lw=2, label=f'Konkave punkter (AUC = {roc_auc3:.2f})')\n",
    "plt.scatter(fpr3[optimal_idx3], tpr3[optimal_idx3], color='green', s = 100, label=f'Optimal terskel for konkave punkter = {optimal_benchmark_concave_points:.2f}')\n",
    "\n",
    "#Linje for tilfeldig klassifisering\n",
    "plt.plot([0, 1], [0, 1], color='gray', linestyle='--', label='Linje for tilfeldig klassifisering')\n",
    "\n",
    "#Klargjøring av plott\n",
    "\n",
    "plt.xlabel('False Positive Rate')\n",
    "plt.ylabel('True Positive Rate (Sensitivity)')\n",
    "plt.legend(loc='lower right')\n",
    "plt.grid(True)\n",
    "plt.tight_layout()\n",
    "plt.show()"
   ]
  },
  {
   "cell_type": "markdown",
   "id": "98f9fa39-80a7-45da-9818-2eee8c59fe55",
   "metadata": {},
   "source": [
    "Ved bruk av ROC AUC fant vi grenser som vi vil bruke i omkodingen av disse variablene.\n",
    "Glatthet: Grense ved 0.10 (estimert treffsikkerhet: 72%).\n",
    "Konkavitet: Grense ved 0.07 (estimert treffsikkerhet: 94%).\n",
    "Konkave punkter: Grense ved 0.05 (estimert treffsikkerhet: 96%)."
   ]
  },
  {
   "cell_type": "markdown",
   "id": "058276b3-6eac-4b09-8a91-461ff00c5948",
   "metadata": {},
   "source": [
    "#### 7.5.2 Omkoding av glatthet\n"
   ]
  },
  {
   "cell_type": "code",
   "execution_count": null,
   "id": "f993ef35-ef6b-4de1-b45d-7f923be58164",
   "metadata": {},
   "outputs": [],
   "source": [
    "df_kreft_ren_x_train[\"smoothness_regression\"] = df_kreft_ren_x_train[\"smoothness_mean\"] > optimal_benchmark_smoothness\n",
    "\n",
    "#Validering\n",
    "print(df_kreft_ren_x_train[\"smoothness_regression\"].describe(), df_kreft_ren_x_train[\"smoothness_regression\"].value_counts())\n",
    "df_kreft_ren_x_train[[\"smoothness_mean\", \"smoothness_regression\"]].head(10)\n",
    "print(df_kreft_ren_x_train[[\"smoothness_mean\", \"smoothness_regression\"]].head(10))"
   ]
  },
  {
   "cell_type": "markdown",
   "id": "4fd33c92-13a3-49ea-b34e-e27f1ddae0cd",
   "metadata": {},
   "source": [
    "Omkoding vellykket"
   ]
  },
  {
   "cell_type": "markdown",
   "id": "2c46adb3-7edf-429c-b7e5-d65b43103023",
   "metadata": {},
   "source": [
    "#### 7.5.3 Omkoding av konkavitet"
   ]
  },
  {
   "cell_type": "code",
   "execution_count": null,
   "id": "266b7eaf-4427-46a1-b41f-61151283d0eb",
   "metadata": {},
   "outputs": [],
   "source": [
    "df_kreft_ren_x_train[\"concavity_regression\"] = df_kreft_ren_x_train[\"concavity_mean\"] > optimal_benchmark_concavity\n",
    "\n",
    "#Validering\n",
    "print(df_kreft_ren_x_train[\"concavity_regression\"].describe(), \n",
    "      df_kreft_ren_x_train[\"concavity_regression\"].value_counts())\n",
    "print(df_kreft_ren_x_train[[\"concavity_mean\", \"concavity_regression\"]].head(10))\n"
   ]
  },
  {
   "cell_type": "markdown",
   "id": "e1f64172-69c3-4c36-a943-aeb498d7574a",
   "metadata": {},
   "source": [
    "Alt OK!"
   ]
  },
  {
   "cell_type": "markdown",
   "id": "5ab4f873-5797-46ab-9bb3-14991890a863",
   "metadata": {},
   "source": [
    "#### 7.5.4 Omkoding av konkave punkter"
   ]
  },
  {
   "cell_type": "code",
   "execution_count": null,
   "id": "ab3cc5e9-2907-42b0-9597-9f82dc64a443",
   "metadata": {},
   "outputs": [],
   "source": [
    "df_kreft_ren_x_train[\"concave_points_regression\"] = df_kreft_ren_x_train[\"concave points_mean\"] > optimal_benchmark_concave_points\n",
    "#Validering\n",
    "print(df_kreft_ren_x_train[\"concave_points_regression\"].describe(), df_kreft_ren_x_train[\"concave_points_regression\"].value_counts())\n",
    "print(df_kreft_ren_x_train[[\"concave points_mean\", \"concave_points_regression\"]].head(10))"
   ]
  },
  {
   "cell_type": "markdown",
   "id": "5286878e-696e-4796-9785-2c6c0673c189",
   "metadata": {},
   "source": [
    "Omkoding vellykket"
   ]
  },
  {
   "cell_type": "markdown",
   "id": "f9f43015-8772-4640-9e50-8dfb72dc32f0",
   "metadata": {},
   "source": [
    "#### 7.5.5 Slå sammen konkave punkter"
   ]
  },
  {
   "cell_type": "code",
   "execution_count": null,
   "id": "a1a382b7-f0a7-403a-9ad4-dc556c15be4c",
   "metadata": {},
   "outputs": [],
   "source": [
    "df_kreft_ren_x_train[\"concave_attributes_regression\"] = df_kreft_ren_x_train[\"concavity_regression\"] | df_kreft_ren_x_train[\"concave_points_regression\"]\n",
    "#Validering\n",
    "print(df_kreft_ren_x_train[\"concave_attributes_regression\"].value_counts())\n",
    "df_kreft_ren_x_train[[\"concavity_regression\", \"concave_points_regression\", \"concave_attributes_regression\"]\n",
    "].head(10)"
   ]
  },
  {
   "cell_type": "markdown",
   "id": "327a37e1-ae81-40e6-bbe7-d92f1635e470",
   "metadata": {},
   "source": [
    "Det største bekymringen var den høye korrelasjonen mellom radius og konkave punkter. Jeg ønsker nå å se nøyaktig hvor stor korrelasjonen er mellom de nylig opprettede binære variablene for overflateegenskaper og radius."
   ]
  },
  {
   "cell_type": "code",
   "execution_count": null,
   "id": "8cec6c8c-fb37-479d-8b70-4d18e690090b",
   "metadata": {},
   "outputs": [],
   "source": [
    "df_kreft_ren_x_train[\"concave_attributes_regression\"].corr(df_kreft_ren_x_train[\"radius_regression\"])"
   ]
  },
  {
   "cell_type": "markdown",
   "id": "fe7f6939-20b1-45ab-bd1b-9c68547ba982",
   "metadata": {},
   "source": [
    "Resultatet viser at det ikke lenger er høy korrelasjon mellom de binære variablene for størrelse (radius) og overflateegenskaper."
   ]
  },
  {
   "cell_type": "markdown",
   "id": "498da028-6361-47df-8143-5949c1d1191f",
   "metadata": {},
   "source": [
    "## 7.6 Estimering av diagnostisk terskel for Radius"
   ]
  },
  {
   "cell_type": "markdown",
   "id": "becc0766-b67b-43c0-985e-130ef4b886b3",
   "metadata": {},
   "source": [
    "Bruk av ROC og AUC for å undersøke diagnostisk terskel for ondartede og godartede kreftsvulster. til alle variablene i overflateegenskaper"
   ]
  },
  {
   "cell_type": "code",
   "execution_count": null,
   "id": "c3a9fe96-ef96-483d-ab00-8d5eec25bc6b",
   "metadata": {},
   "outputs": [],
   "source": [
    "# Beregning av ROC-kurve og AUC for tekstur\n",
    "fpr_texture, tpr_texture, thresholds_texture = roc_curve(df_kreft_ren_y_train[\"num_diagnosis\"], df_kreft_ren_x_train[\"texture_mean\"])\n",
    "roc_auc_texture = auc(fpr_texture, tpr_texture)\n",
    "\n",
    "# Beregning av ROC-kurve og AUC for symmetri\n",
    "fpr_symmetry,tpr_symmetry, thresholds_symmetry =  roc_curve(df_kreft_ren_y_train[\"num_diagnosis\"], df_kreft_ren_x_train[\"symmetry_mean\"])\n",
    "roc_auc_symmetry = auc(fpr_symmetry, tpr_symmetry)\n",
    "\n",
    "# Beregning av ROC-kurve og AUC for kompakthet\n",
    "fpr_compactness, tpr_compactness, thresholds_compactness = roc_curve(df_kreft_ren_y_train[\"num_diagnosis\"], df_kreft_ren_x_train[\"compactness_mean\"])\n",
    "roc_auc_compactness = auc(fpr_compactness, tpr_compactness)\n",
    "\n",
    "\n",
    "# Optimale terskelverdier\n",
    "# Kalkulerer j-scores for hver av teksturvariablene\n",
    "j_scores_texture = tpr_texture - fpr_texture\n",
    "j_scores_symmetry = tpr_symmetry - fpr_symmetry\n",
    "j_scores_compactness = tpr_compactness - fpr_compactness\n",
    "\n",
    "# Indeks til individuelle j-scores\n",
    "optimal_texture = np.argmax(j_scores_texture)\n",
    "optimal_symmetry = np.argmax(j_scores_symmetry)\n",
    "optimal_compactness = np.argmax(j_scores_compactness)\n",
    "\n",
    "#Optimale terskelverdier for hver variabel\n",
    "optimal_benchmark_texture = thresholds_texture[optimal_texture]\n",
    "optimal_benchmark_symmetry = thresholds_symmetry[optimal_symmetry]\n",
    "optimal_benchmark_compactness = thresholds_compactness[optimal_compactness]\n",
    "f\"Optimum terskel for tekstur er{optimal_benchmark_texture}\"\n",
    "f\"Optimum terskel for tekstur er {optimal_symmetry}\"\n",
    "f\"Optimum terskel for tekstur er{optimal_benchmark_compactness}\"\n",
    "\n",
    "# ROC curve\n",
    "plt.figure(figsize=(8, 6))\n",
    "# ROC og optimal terskel for tekstur\n",
    "plt.plot(fpr_texture, tpr_texture, color='blue', lw=2, label=f'Tekstur (AUC = {roc_auc_texture:.2f})')\n",
    "plt.scatter(fpr_texture[optimal_texture], tpr_texture[optimal_texture], color='blue',s = 100, label=f'Optimal terskel for tekstur = {optimal_benchmark_texture:.2f}')\n",
    "# ROC og optimal terskel for tsymmetri\n",
    "plt.plot(fpr_symmetry, tpr_symmetry, color='red', lw=2, label=f'Symmetri (AUC = {roc_auc_symmetry:.2f})')\n",
    "plt.scatter(fpr_symmetry[optimal_symmetry], tpr_symmetry[optimal_symmetry], color=\"red\",s = 100, label=f'Optimal terskel for symetri = {optimal_benchmark_symmetry:.2f}')\n",
    "# ROC og optimal terskel for kompakthet\n",
    "plt.plot(fpr_compactness, tpr_compactness, color='green', lw=2, label=f'Kompakthet (AUC = {roc_auc_compactness:.2f})')\n",
    "plt.scatter(fpr_compactness[optimal_compactness], tpr_compactness[optimal_compactness], color='green', s = 100, label=f'Optimal terskel for kompakthet = {optimal_benchmark_compactness:.2f}')\n",
    "\n",
    "# Linje for tilfeldig klassifisering\n",
    "plt.plot([0, 1], [0, 1], color='gray', linestyle='--', label='Linje for tilfeldig klassifisering')\n",
    "\n",
    "# Klargjøring\n",
    "\n",
    "plt.xlabel('False Positive Rate')\n",
    "plt.ylabel('True Positive Rate (Sensitivity)')\n",
    "plt.legend(loc='lower right')\n",
    "plt.grid(True)\n",
    "plt.tight_layout()\n",
    "plt.show()"
   ]
  },
  {
   "cell_type": "code",
   "execution_count": null,
   "id": "283d4c3f-d608-4b09-b4c1-6aafda46c73a",
   "metadata": {},
   "outputs": [],
   "source": []
  },
  {
   "cell_type": "markdown",
   "id": "c24d821b-5fe4-4808-bd63-78ccf060d0b3",
   "metadata": {},
   "source": [
    "Ved bruk av ROC AUC fant vi terskel som vi vil bruke i omkodingen av tekstur variablene.\n",
    "Tekstur: Terskel ved 18.47 (estimert treffsikkerhet: 78%).\n",
    "Symmetri: Terskel ved 0.17 (estimert treffsikkerhet: 71%).\n",
    "Kompakthet: Terskel ved 0.1(estimert treffsikkerhet: 86%).\n"
   ]
  },
  {
   "cell_type": "markdown",
   "id": "46c8ddb3-967b-4763-aa21-f53ab5e41f83",
   "metadata": {},
   "source": [
    "#### 7.6.1 Omkoding av Tekstur"
   ]
  },
  {
   "cell_type": "code",
   "execution_count": null,
   "id": "b3b8513d-4077-4b12-bd12-fe519f998295",
   "metadata": {},
   "outputs": [],
   "source": [
    "df_kreft_ren_x_train[\"texture_regression\"] = df_kreft_ren_x_train[\"texture_mean\"] > optimal_benchmark_texture\n",
    "#Validering\n",
    "print(df_kreft_ren_x_train[\"texture_regression\"].describe(), df_kreft_ren_x_train[\"texture_regression\"].value_counts())\n",
    "print(df_kreft_ren_x_train[[\"texture_mean\", \"texture_regression\"]].head(10))"
   ]
  },
  {
   "cell_type": "markdown",
   "id": "73fc1f07-36c6-476b-b780-dd1274ad6d0e",
   "metadata": {},
   "source": [
    "Alt stemmer!"
   ]
  },
  {
   "cell_type": "markdown",
   "id": "d9e590e7-0e10-4dfb-b83a-77e7cd987b01",
   "metadata": {},
   "source": [
    "#### 7.6.2 Omkoding av symmetri"
   ]
  },
  {
   "cell_type": "code",
   "execution_count": null,
   "id": "7be6e03f-a354-490e-a578-c58e320b0278",
   "metadata": {},
   "outputs": [],
   "source": [
    "df_kreft_ren_x_train[\"symmetry_regression\"] = df_kreft_ren_x_train[\"symmetry_mean\"] > optimal_benchmark_symmetry\n",
    "#Validering\n",
    "print(df_kreft_ren_x_train[\"symmetry_regression\"].describe(), df_kreft_ren_x_train[\"symmetry_regression\"].value_counts())\n",
    "print(df_kreft_ren_x_train[[\"symmetry_mean\", \"symmetry_regression\"]].head(10))"
   ]
  },
  {
   "cell_type": "markdown",
   "id": "fa6f7b09-ed10-4861-a8ac-0fc8efbd1967",
   "metadata": {},
   "source": [
    "Omkoding vellyket!"
   ]
  },
  {
   "cell_type": "markdown",
   "id": "20d5dffa-4997-4641-9eb4-8c54b1045c3a",
   "metadata": {},
   "source": [
    "#### 7.6.3 Omkoding av kompakthet"
   ]
  },
  {
   "cell_type": "code",
   "execution_count": null,
   "id": "a4eca112-5bb0-45bc-af0e-86a27cfba53f",
   "metadata": {},
   "outputs": [],
   "source": [
    "df_kreft_ren_x_train[\"compactness_regression\"] = df_kreft_ren_x_train[\"compactness_mean\"] > optimal_benchmark_compactness\n",
    "#Validering\n",
    "print(df_kreft_ren_x_train[\"compactness_regression\"].describe(), df_kreft_ren_x_train[\"compactness_regression\"].value_counts())\n",
    "print(df_kreft_ren_x_train[[\"compactness_mean\", \"compactness_regression\"]].head(10))"
   ]
  },
  {
   "cell_type": "markdown",
   "id": "80b4e7a9-b581-4fae-8079-8e074dbeedae",
   "metadata": {},
   "source": [
    "Omkoding vellyket!"
   ]
  },
  {
   "cell_type": "markdown",
   "id": "9501d42e-15e4-46fe-8fd4-838f480fbf3b",
   "metadata": {},
   "source": [
    "Nå er alle utvalgte tekstur-variablene omkodet. Det gjenstår å slå dem sammen. Som sagt, fraktal dimensjon blir ikke inkludert som en del av teksturvariablene i prediksjonsmodellen siden siden søylediagrammet i EDA viste at kreftsvulster viste at det er ikke betydelig forskjell mellom godartede og ondartede kreftsvulster for denne variabelen."
   ]
  },
  {
   "cell_type": "code",
   "execution_count": null,
   "id": "702071e5-60ea-400c-aabb-d909b704d3cb",
   "metadata": {},
   "outputs": [],
   "source": [
    "df_kreft_ren_x_train[\"texture_attributes_regression\"] = df_kreft_ren_x_train[\"texture_regression\"] | df_kreft_ren_x_train[\"symmetry_regression\"] | df_kreft_ren_x_train[\"compactness_regression\"]\n",
    "#Validering\n",
    "print(df_kreft_ren_x_train[\"texture_attributes_regression\"].value_counts())\n",
    "df_kreft_ren_x_train[[\"texture_regression\", \"symmetry_regression\", \"compactness_regression\", \"texture_attributes_regression\"]\n",
    "].head(10)\n",
    "                                                                                                                                 "
   ]
  },
  {
   "cell_type": "markdown",
   "id": "85233ce8-07bd-40b4-8288-d0f427a3e388",
   "metadata": {},
   "source": [
    "Variabelen texture_attributes_regression er omkodet riktig!"
   ]
  },
  {
   "cell_type": "markdown",
   "id": "7fff0e93-6311-4977-935b-7cefe984c8e5",
   "metadata": {},
   "source": [
    "### 7.7 Forberedelse datasett for logistisk regressjon"
   ]
  },
  {
   "cell_type": "markdown",
   "id": "4d8e528e-93d6-455f-bcde-d879db7c7d1c",
   "metadata": {},
   "source": [
    "#### 7.7.1 Fjerning av unødvendige variabler fra treningsdatasettet:"
   ]
  },
  {
   "cell_type": "code",
   "execution_count": null,
   "id": "6b03817d-0c3a-4556-8a18-e4f9fef598fa",
   "metadata": {},
   "outputs": [],
   "source": [
    "df_kreft_ren_x_train.columns\n",
    "df_kreft_ren_x_train = df_kreft_ren_x_train.drop([\n",
    "    'radius_mean', 'texture_mean', 'perimeter_mean', 'area_mean',\n",
    "    'smoothness_mean', 'compactness_mean', 'concavity_mean',\n",
    "    'concave points_mean', 'symmetry_mean',\n",
    "    'concavity_regression',\n",
    "    'concave_points_regression',\n",
    "    'texture_regression', 'symmetry_regression', 'compactness_regression',\n",
    "], axis=1)\n",
    "\n",
    "#Validasjon\n",
    "print(df_kreft_ren_x_train.shape)\n",
    "print(df_kreft_ren_x_train.head(10))"
   ]
  },
  {
   "cell_type": "markdown",
   "id": "7660c2d0-c60c-4154-b1d6-53e4eede30b2",
   "metadata": {},
   "source": [
    "Treningsdatasettet inneholder nå kun variablene som er relevante for prediksjonsmodellen."
   ]
  },
  {
   "cell_type": "markdown",
   "id": "33c41780-78c9-4ed2-b7ae-1bb218df1380",
   "metadata": {},
   "source": [
    "### 7.7.2 Omkoding av testdatasettet slik at begge test- og treningsdatasettet har de samme uavhengige variablene\n"
   ]
  },
  {
   "cell_type": "code",
   "execution_count": null,
   "id": "2efabee6-c8c5-45db-84af-5d39f41411cf",
   "metadata": {},
   "outputs": [],
   "source": [
    "#Generering av variabler i test dataset\n",
    "#Radius\n",
    "df_kreft_ren_x_test[\"radius_regression\"] = df_kreft_ren_x_test[\"radius_mean\"] > optimal_benchmark_radius\n",
    "#Glatthet\n",
    "df_kreft_ren_x_test[\"smoothness_regression\"] = df_kreft_ren_x_test[\"smoothness_mean\"] > optimal_benchmark_smoothness\n",
    "#Konkavitet\n",
    "df_kreft_ren_x_test[\"concavity_regression\"] = df_kreft_ren_x_test[\"concavity_mean\"] > optimal_benchmark_concavity\n",
    "#Konkave punkter\n",
    "df_kreft_ren_x_test[\"concave_points_regression\"] = df_kreft_ren_x_test[\"concave points_mean\"] > optimal_benchmark_concave_points\n",
    "#Tekstur\n",
    "df_kreft_ren_x_test[\"texture_regression\"] = df_kreft_ren_x_test[\"texture_mean\"] > optimal_benchmark_texture\n",
    "#Symmetri\n",
    "df_kreft_ren_x_test[\"symmetry_regression\"] = df_kreft_ren_x_test[\"symmetry_mean\"] > optimal_benchmark_symmetry\n",
    "#Kompakthet\n",
    "df_kreft_ren_x_test[\"compactness_regression\"] = df_kreft_ren_x_test[\"compactness_mean\"] > optimal_benchmark_compactness\n",
    "\n",
    "#Slå sammen overflateegenskaper-variablene\n",
    "df_kreft_ren_x_test[\"concave_attributes_regression\"] = df_kreft_ren_x_test[\"concavity_regression\"] | df_kreft_ren_x_test[\"concave_points_regression\"]\n",
    "#Slå sammen teksturegenskaper-variablene\n",
    "df_kreft_ren_x_test[\"texture_attributes_regression\"] = df_kreft_ren_x_test[\"texture_regression\"] | df_kreft_ren_x_test[\"symmetry_regression\"] | df_kreft_ren_x_test[\"compactness_regression\"]\n",
    "\n",
    "#\n"
   ]
  },
  {
   "cell_type": "markdown",
   "id": "bd88dc97-3fa5-4528-a9aa-d2c418dfbfa4",
   "metadata": {},
   "source": [
    "Slå sammen variablene for overflate- og teksturegenskap"
   ]
  },
  {
   "cell_type": "code",
   "execution_count": null,
   "id": "524f1f8d-a76b-44e7-a03f-0d541d695da6",
   "metadata": {},
   "outputs": [],
   "source": [
    "#overflateegenskaper-variablene\n",
    "df_kreft_ren_x_test[\"concave_attributes_regression\"] = df_kreft_ren_x_test[\"concavity_regression\"] | df_kreft_ren_x_test[\"concave_points_regression\"]\n",
    "#teksturegenskaper-variablene\n",
    "df_kreft_ren_x_test[\"texture_attributes_regression\"] = df_kreft_ren_x_test[\"texture_regression\"] | df_kreft_ren_x_test[\"symmetry_regression\"] | df_kreft_ren_x_test[\"compactness_regression\"]"
   ]
  },
  {
   "cell_type": "markdown",
   "id": "c0d438cd-98aa-4911-b072-c96528ef1756",
   "metadata": {},
   "source": [
    "Fjerning av unødvendige variabler fra treningsdatasettet:"
   ]
  },
  {
   "cell_type": "code",
   "execution_count": null,
   "id": "00601bff-83ed-4fa2-a686-7e47b77294d8",
   "metadata": {},
   "outputs": [],
   "source": [
    "df_kreft_ren_x_test.columns\n",
    "df_kreft_ren_x_test = df_kreft_ren_x_test.drop([\n",
    "    'radius_mean', 'texture_mean', 'perimeter_mean', 'area_mean',\n",
    "    'smoothness_mean', 'compactness_mean', 'concavity_mean',\n",
    "    'concave points_mean', 'symmetry_mean',\n",
    "    'concavity_regression',\n",
    "    'concave_points_regression',\n",
    "    'texture_regression', 'symmetry_regression', 'compactness_regression',\n",
    "], axis=1)\n",
    "\n",
    "#Validering\n",
    "print(df_kreft_ren_x_test.shape)\n",
    "print(df_kreft_ren_x_test.head(10))"
   ]
  },
  {
   "cell_type": "markdown",
   "id": "19dbf99e-de78-49e8-99bc-95363e39ade8",
   "metadata": {},
   "source": [
    "Testdatasettet inneholder nå bare variablene som er relevante for prediksjonsmodellen."
   ]
  },
  {
   "cell_type": "markdown",
   "id": "69aee2d5-7ffe-424d-9f22-0a4360ed4a20",
   "metadata": {},
   "source": [
    "# 8 Logistisk regressjon"
   ]
  },
  {
   "cell_type": "markdown",
   "id": "0bad9966-6565-4d8a-b7b4-715e611d515a",
   "metadata": {},
   "source": [
    "#### 8.1. Betignelser for logistisk regressjon"
   ]
  },
  {
   "cell_type": "markdown",
   "id": "2b8d94f9-2c3b-466c-ad61-c5b3ffa6b7a1",
   "metadata": {},
   "source": [
    "Betignelser til logistisk regressjon er:\n",
    "\n",
    "1 Binær avhengig variabel \n",
    "df_kreft_ren_y_train er en binær variabel (True/False), og kravet er oppfylt.\n",
    "\n",
    "2 Uavhengige observasjoner\n",
    "  Observasjonene er uavhengige, som krevd.\n",
    "  \n",
    "3 Ingen ekstreme verdier\n",
    "  Alle prediktorer er binære, så ekstreme verdier er ikke et problem.\n",
    "  \n",
    "4 Tilstrekkelig utvalgsstørrelse- Dette må sjekkes.\n",
    "   \n",
    "5 Lineær sammenheng med log-odds\n",
    "  Ikke relevant siden alle uavhengige variabler er binære.\n",
    "\n",
    "6 Riktig modellspesifikasjon\n",
    "  Variablene er valgt basert på fagkunnskap.\n",
    "  \n",
    "7 Ingen multikollinearitet Dette sjekkes videre med VIF."
   ]
  },
  {
   "cell_type": "markdown",
   "id": "f1235772-2f36-4961-9f0d-4a23c6682507",
   "metadata": {},
   "source": [
    "#### 8.1.1 Multikolinearitet"
   ]
  },
  {
   "cell_type": "raw",
   "id": "93a82d90-3074-4571-9390-56425d34f24e",
   "metadata": {},
   "source": [
    "Varmekart"
   ]
  },
  {
   "cell_type": "code",
   "execution_count": null,
   "id": "b1bc5456-a9f0-4905-ad02-79bbbd3b24e5",
   "metadata": {},
   "outputs": [],
   "source": [
    "sns.heatmap(df_kreft_ren_x_train.corr(),annot = True)"
   ]
  },
  {
   "cell_type": "markdown",
   "id": "9c2776db-610a-445a-a6f8-b48595d57b95",
   "metadata": {},
   "source": [
    "Varmekartet viser at alle prediksjonsvariablene har lav til moderat korrelasjon."
   ]
  },
  {
   "cell_type": "code",
   "execution_count": null,
   "id": "3c7b953b-6e1a-4508-a307-d19c7122a0fc",
   "metadata": {},
   "outputs": [],
   "source": [
    "# Beregn Variance Inflation Factor (VIF)\n",
    "\n",
    "vif_scores = pd.DataFrame() \n",
    "vif_scores[\"Attribute\"] = df_kreft_ren_x_train.columns \n",
    "  \n",
    "# Beregner VIF for hver variabel variabel\n",
    "vif_scores[\"VIF Scores\"] = [variance_inflation_factor(df_kreft_ren_x_train.values, i) for i in range(len(df_kreft_ren_x_train.columns))] \n",
    "  \n",
    "display(vif_scores)"
   ]
  },
  {
   "cell_type": "markdown",
   "id": "f793dd0c-d911-476a-8f6e-fdf86aab9050",
   "metadata": {},
   "source": [
    " VIF tabellen viser at multikolinearitet ikke er en bekymring"
   ]
  },
  {
   "cell_type": "markdown",
   "id": "d95ee3dd-25eb-4e8e-b8ab-323366efe25b",
   "metadata": {},
   "source": [
    "#### 8.1.2 Tiksrekelig utvalgstørrelse"
   ]
  },
  {
   "cell_type": "code",
   "execution_count": null,
   "id": "c6e75a45-ac81-44ef-a314-be8ea98771fe",
   "metadata": {
    "scrolled": true
   },
   "outputs": [],
   "source": [
    "\n",
    "print(pd.crosstab(df_kreft_ren_x_train['radius_regression'], df_kreft_ren_y_train.values.ravel()))\n",
    "print(pd.crosstab(df_kreft_ren_x_train['smoothness_regression'], df_kreft_ren_y_train.values.ravel()))\n",
    "print(pd.crosstab(df_kreft_ren_x_train['concave_attributes_regression'], df_kreft_ren_y_train.values.ravel()))\n",
    "print(pd.crosstab(df_kreft_ren_x_train['texture_attributes_regression'], df_kreft_ren_y_train.values.ravel()))"
   ]
  },
  {
   "cell_type": "markdown",
   "id": "41fa31fa-f156-4d67-9f97-230322b6bbb8",
   "metadata": {},
   "source": [
    "Utvalgsstørrelsen kan være problematisk fordi vi har et utilstrekkelig antall data blant ondartede kreftsvulster som hadde lave verdier for teksturegenskaper og konkave egenskaper. Jeg vil likevel fortsette med logistisk regresjon. Dette kan imidlertid føre til en overestimering av innvirkningen fra andre variabler, spesielt radius som har sterk korrelasjon med utfallsvariabel og tilskrekelig antall data."
   ]
  },
  {
   "cell_type": "markdown",
   "id": "9e307504-a48a-4ef5-b4f9-b230d433b30a",
   "metadata": {},
   "source": [
    "#### 8.2 Trening av Logistisk Regresjonsmodell"
   ]
  },
  {
   "cell_type": "markdown",
   "id": "f89f46e2-f1a3-41ff-8b09-2d0fb834b82b",
   "metadata": {},
   "source": [
    "Tilpass (trene) logistisk regresjonsmodell til dataene"
   ]
  },
  {
   "cell_type": "code",
   "execution_count": null,
   "id": "c8cb0758-186c-446c-aa8d-45d0423f6dce",
   "metadata": {},
   "outputs": [],
   "source": [
    "logistic_regression_model = LogisticRegression(random_state=42, solver='liblinear')\n",
    "logistic_regression_model.fit(df_kreft_ren_x_train, df_kreft_ren_y_train.values.ravel())"
   ]
  },
  {
   "cell_type": "markdown",
   "id": "a9e10eb8-e192-4980-8e54-385b21bdda4f",
   "metadata": {},
   "source": [
    "#### 8.3 Tolkning av resultater"
   ]
  },
  {
   "cell_type": "markdown",
   "id": "bb8ec475-3d1d-40c8-85f6-90b490fe7e66",
   "metadata": {},
   "source": [
    "Logistisk regresjon resultater"
   ]
  },
  {
   "cell_type": "code",
   "execution_count": null,
   "id": "964daaa1-d778-4598-8e70-a8d48cc57686",
   "metadata": {},
   "outputs": [],
   "source": [
    "logit_model = sm.Logit(df_kreft_ren_y_train, sm.add_constant(df_kreft_ren_x_train).astype(int))\n",
    "result = logit_model.fit()\n",
    "print(result.summary())\n",
    "#odds ratios\n",
    "odds_ratios = np.exp(result.params)\n",
    "print(odds_ratios)"
   ]
  },
  {
   "cell_type": "markdown",
   "id": "0990799e-1e6e-4788-9ff5-811284dd4cae",
   "metadata": {},
   "source": [
    "Resultatene fra den logistiske regresjonen viser at:\n",
    "      Kreftsvulster med cellekjernestørrelse > 15.32µm  har 12x større odds for å være ondartede\n",
    "Når det gjelder overflateegenskaper, svulster med:\n",
    "    Konkavitet > 0.9 eller\n",
    "    Antall konkave punkter > 0.05 har 18x høyere odds for å våre ondartede\n",
    "    kreftsvulster med glatthet > 0.9 hadde 1.8x større odds for å være ondartede\n",
    "Høyere teksturegenskaper hadde 4.5x større odds for å være ondartede. To sistenevnte var ikke statistisk signifikante."
   ]
  },
  {
   "cell_type": "markdown",
   "id": "e3c08afe-9b80-4478-af82-90f46838e973",
   "metadata": {},
   "source": [
    "Modellens Log-Likelihood på -108.03, kombinert med en Pseudo R-squared (McFadden's) på 0.5895, indikerer at modellen forklarer en svært stor del av variasjonen i utfallsvariabelen i datasettet vårt. Dette betyr at de uavhengige variablene er svært effektive til å skille mellom de to diagnoseutfallene.\n",
    "Dette resultatet er naturlig når man har variabler som fungerer som nesten perfekte prediktorer i treningsdataene. Dette fenomenet kalles kvasi-perfekt separasjon. I vårt tilfelle er det spesielt radius_regression, concave_attributes_regression, og texture_attributes_regression (basert på tidligere resultater og diskusjon) som bidrar til de observerte høye oddsforholdene.\n",
    "På grunn av deres sterke diskrimineringsevne ser disse variablene ut til å dominere modellen, og de bidrar med svært stor prediksjonsevne sammenlignet med de andre.Quasi separation vil si at modellet er altfor tilpasset for treningsdata. Implikasjoner og risiko for overtilpasning inkludererinflaterte oddsforhold: Modellen overvurderer effekten av prediktorer (f.eks. OR=18.46) eller redusert generaliserbarhet: Modellen kan prestere dårligere på nye data, spesielt hvis treningsdataene ikke er representative.\n",
    "Nå skal vi teste regresjonsmodellen på testdataene for å vurdere dens generaliserbarhet og ytelse på ukjent data."
   ]
  },
  {
   "cell_type": "markdown",
   "id": "970abc7f-e7cb-4b44-9da4-c519934f3d9e",
   "metadata": {},
   "source": [
    " #### 8.4 Model Evaluering"
   ]
  },
  {
   "cell_type": "raw",
   "id": "94143ad4-6a2f-4e83-8650-fd2df7fece04",
   "metadata": {},
   "source": [
    "Evaluer modellen ved hjelp av testdataene"
   ]
  },
  {
   "cell_type": "code",
   "execution_count": null,
   "id": "b71d164a-6e23-43bf-b7f1-87e485be3cb1",
   "metadata": {},
   "outputs": [],
   "source": [
    "df_kreft_reg_y_predicted = logistic_regression_model.predict(df_kreft_ren_x_test)\n",
    "display(df_kreft_reg_y_predicted)\n",
    "\n",
    "#Beregn forvirringsmatrise\n",
    "confusion_matrix = confusion_matrix(df_kreft_ren_y_test, df_kreft_reg_y_predicted)\n",
    "print(confusion_matrix)\n",
    "\n",
    "#Beregn ytelsesmetrikker\n",
    "print(roc_auc_score(df_kreft_ren_y_test, df_kreft_reg_y_predicted))\n",
    "print(precision_score(df_kreft_ren_y_test, df_kreft_reg_y_predicted))\n",
    "f\"sensitivty is {confusion_matrix[1,1]/ (confusion_matrix[1,1] + confusion_matrix[1,0])}\""
   ]
  },
  {
   "cell_type": "markdown",
   "id": "08b7e91f-ef2f-44ad-b4ab-765c9296741f",
   "metadata": {},
   "source": [
    "Mens treningsdataene viste tegn til kvasi-perfekt separasjon for enkelte variabler – noe som førte til svært høye oddsforhold og potensielt ustabile koeffisientestimater – generaliserer modellen likevel godt til ukjente data. Den sterke ytelsen på testsettet, med en ROC AUC på 0.87, presisjon på 0.9 og sensitivitet på 0.79, demonstrerer modellens robuste evne til å identifisere ondartede diagnoser. Dette indikerer at de konstruerte variablene, til tross for at de forårsaket separasjon, fanger opp svært signifikant diagnostisk informasjon. For en modell som skal settes i produksjon, kan man vurdere teknikker for å regularisere koeffisientene eller samle inn mer data for å redusere separasjonseffektene, men for dette prosjektet er resultatene lovende.\n",
    "\n",
    "Precision score er 87% som indikerer at model treffer i 87% av tilfeller. \n",
    "Sensitivitet er 79 som jeg betrakter ganske lavt ganske lavt. Hvis modellet forutsier at kreftsvulst er godartet i stedet for ondartet selv om det er ondartet kan det ha alvorlige kliniske implikasjoner. Jeg trenger å sjekke hvor sannsynlig det er at modellen treffer ondartet kreftsvulst riktig."
   ]
  },
  {
   "cell_type": "code",
   "execution_count": null,
   "id": "37416b3b-2d35-452c-8c4d-38844c318a9a",
   "metadata": {},
   "outputs": [],
   "source": [
    "y_probs = logistic_regression_model.predict_proba(df_kreft_ren_x_test)[:, 1]\n",
    "\n",
    "# Beregn ROC-kurven\n",
    "fpr, tpr, thresholds = roc_curve(df_kreft_ren_y_test, y_probs)\n",
    "roc_auc = roc_auc_score(df_kreft_ren_y_test, y_probs) # This line calculates the 0.94 AUC\n",
    "\n",
    "# Plott ROC-kurven\n",
    "plt.figure(figsize=(8, 6))\n",
    "plt.plot(fpr, tpr, color='darkorange', lw=2, label=f\"ROC curve (AUC = {roc_auc:.3f})\")\n",
    "plt.plot([0, 1], [0, 1], color='navy', lw=2, linestyle='--')  # Diagonal line\n",
    "plt.xlim([0.0, 1.0])\n",
    "plt.ylim([0.0, 1.05])\n",
    "plt.xlabel(\"False Positive Rate\")\n",
    "plt.ylabel(\"True Positive Rate\")\n",
    "plt.title(\"Receiver Operating Characteristic (ROC) Curve\")\n",
    "plt.legend(loc=\"lower right\")\n",
    "plt.grid(True)"
   ]
  },
  {
   "cell_type": "markdown",
   "id": "c7fe3f13-7d6f-4645-9990-6669a2801899",
   "metadata": {},
   "source": [
    "ROC AUC-verdien på 0.955 er utmerket og indikerer en fremragende diskrimineringsevne. Dette betyr at modellen din er svært dyktig til å skille mellom ondartede og godartede diagnoser på tvers av alle mulige terskelverdier. Hvis vi tilfeldig velger en ondartet og en godartet svulst, har modellen hele 95.5% sjanse for å tildele den ondartede svulsten en høyere sannsynlighet enn den godartede. Denne verdien er den mest representative for modellens generelle evne til å skille mellom de to klassene, uavhengig av den spesifikke terskelen som ble brukt for å beregne presisjon og sensitivitet.\n",
    "\n",
    "Mens treningsdataene viste tegn til kvasi-perfekt separasjon for enkelte variabler – noe som førte til svært høye oddsforhold og potensielt ustabile koeffisientestimater – generaliserer modellen likevel svært godt til ukjente data. Den fremragende ROC AUC på 0.955, samt den sterke presisjonen (0.87) og sensitiviteten (0.79) på testsettet, demonstrerer modellens robuste prediktive evne til å identifisere ondartede diagnoser. Dette indikerer at de konstruerte variablene, til tross for at de forårsaket separasjon, fanger opp svært signifikant diagnostisk informasjon som holder stand på nye data."
   ]
  },
  {
   "cell_type": "markdown",
   "id": "b5964eab-ef4b-484d-a461-e3ba6ca35138",
   "metadata": {},
   "source": [
    "[3] https://jitc.bmj.com/content/11/3/e006092"
   ]
  },
  {
   "cell_type": "markdown",
   "id": "7e2dc1da-1f96-4326-b081-f0f7ebfa959f",
   "metadata": {},
   "source": [
    "### 9.Konklusjon og refleksjon over modellens ytelse og kliniske implikasjoner"
   ]
  },
  {
   "cell_type": "markdown",
   "id": "9d175cb7-d413-424f-959e-c1f66ec812a1",
   "metadata": {},
   "source": [
    "Modellen min demonstrerer en fremragende samlet diskrimineringsevne med en høy ROC AUC på 0.955. Dette bekrefter dens evne til å skille effektivt mellom ondartede og godartede diagnoser.\n",
    "\n",
    "Imidlertid er modellens nåværende sensitivitet på 79% for å oppdage ondartede tilfeller et område som krever videre vurdering. Dette betyr at modellen dessverre overseer mer enn 20% av faktiske krefttilfeller (falske negativer). Gitt de alvorlige kliniske implikasjonene av en oversett diagnose, er dette en kritisk metrikk å forbedre.\n",
    "\n",
    "For en fremtidig produksjonsmodell ville det være nødvendig å undersøke metoder for å øke sensitiviteten, selv om dette skulle innebære en viss reduksjon i presisjonen (dvs. en økning i falske positiver). Dette kan oppnås ved å justere klassifiseringsterskelen eller ved å utforske andre modellforbedringer. For rammene av dette porteføljeprosjektet ligger imidlertid en slik optimalisering utenfor dets nåværende fokus."
   ]
  }
 ],
 "metadata": {
  "kernelspec": {
   "display_name": "Python 3 (ipykernel)",
   "language": "python",
   "name": "python3"
  },
  "language_info": {
   "codemirror_mode": {
    "name": "ipython",
    "version": 3
   },
   "file_extension": ".py",
   "mimetype": "text/x-python",
   "name": "python",
   "nbconvert_exporter": "python",
   "pygments_lexer": "ipython3",
   "version": "3.9.23"
  }
 },
 "nbformat": 4,
 "nbformat_minor": 5
}
